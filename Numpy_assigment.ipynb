{
 "cells": [
  {
   "cell_type": "raw",
   "id": "1b0eb6f3-b849-4b36-b4f6-0f39802d0814",
   "metadata": {},
   "source": [
    "1. Create a NumPy array 'arr' of integers from 0 to 5 and print its data type."
   ]
  },
  {
   "cell_type": "code",
   "execution_count": 1,
   "id": "a72980b9-837f-4220-949b-39b1f20b6cab",
   "metadata": {},
   "outputs": [
    {
     "name": "stdout",
     "output_type": "stream",
     "text": [
      "Array: [0 1 2 3 4 5]\n",
      "Data type: int64\n"
     ]
    }
   ],
   "source": [
    "import numpy as np\n",
    "\n",
    "# Create the array\n",
    "arr = np.arange(6)\n",
    "\n",
    "# Print the array\n",
    "print(\"Array:\", arr)\n",
    "\n",
    "# Print the data type\n",
    "print(\"Data type:\", arr.dtype)\n"
   ]
  },
  {
   "cell_type": "raw",
   "id": "fec981a4-52a6-4389-9e3d-e1cd2fd04327",
   "metadata": {},
   "source": [
    "2.Given a NumPy array 'arr', check if its data type is float64.\n",
    "arr = np.array([1.5, 2.6, 3.7])\n"
   ]
  },
  {
   "cell_type": "code",
   "execution_count": 4,
   "id": "3d5800f5-4635-4ebd-af9f-ec981215d8f7",
   "metadata": {},
   "outputs": [
    {
     "name": "stdout",
     "output_type": "stream",
     "text": [
      "The data type of the array is float64.\n"
     ]
    }
   ],
   "source": [
    "import numpy as np\n",
    "\n",
    "# Given array\n",
    "arr = np.array([1.5, 2.6, 3.7])\n",
    "\n",
    "# Check if the data type is float64\n",
    "if arr.dtype == np.float64:\n",
    "    print(\"The data type of the array is float64.\")\n",
    "else:\n",
    "    print(\"The data type of the array is not float64.\")\n"
   ]
  },
  {
   "cell_type": "markdown",
   "id": "f18351df-67ea-4162-a891-5f930891cfc7",
   "metadata": {},
   "source": [
    "Explanation:\n",
    "\n",
    "    arr.dtype retrieves the data type of the array.\n",
    "    np.float64 is the NumPy data type for 64-bit floating-point numbers.\n",
    "    The if statement checks whether the data type of arr is float64.\n",
    "\n",
    "When you run this code with the given array arr = np.array([1.5, 2.6, 3.7]), it will print:"
   ]
  },
  {
   "cell_type": "raw",
   "id": "6f6741c2-7367-4caa-8372-28b1dd7f4f0e",
   "metadata": {},
   "source": [
    "3. Create a NumPy array 'arr' with a data type of complex128 containing three complex numbers."
   ]
  },
  {
   "cell_type": "code",
   "execution_count": 5,
   "id": "b5bc1ef9-de2c-4955-b8db-ec8eb387e385",
   "metadata": {},
   "outputs": [
    {
     "name": "stdout",
     "output_type": "stream",
     "text": [
      "Array: [1.+2.j 3.+4.j 5.+6.j]\n",
      "Data type: complex128\n"
     ]
    }
   ],
   "source": [
    "import numpy as np\n",
    "\n",
    "# Create the array with complex128 data type\n",
    "arr = np.array([1+2j, 3+4j, 5+6j], dtype=np.complex128)\n",
    "\n",
    "# Print the array\n",
    "print(\"Array:\", arr)\n",
    "\n",
    "# Print the data type of the array\n",
    "print(\"Data type:\", arr.dtype)\n"
   ]
  },
  {
   "cell_type": "markdown",
   "id": "21837a43-5fa6-4f5b-ba0f-75f0f57f8537",
   "metadata": {},
   "source": [
    "Explanation:\n",
    "\n",
    "    The np.array() function creates the array with the specified complex numbers.\n",
    "    The dtype=np.complex128 argument ensures that the array has the complex128 data type, which is a 128-bit complex number."
   ]
  },
  {
   "cell_type": "raw",
   "id": "0aca1676-8f64-4796-a07f-1df56021ea13",
   "metadata": {},
   "source": [
    "4.Convert an existing NumPy array 'arr' of integers to float32 data type"
   ]
  },
  {
   "cell_type": "code",
   "execution_count": 6,
   "id": "36da169c-8567-42b2-81e9-2c7512a30a70",
   "metadata": {},
   "outputs": [
    {
     "name": "stdout",
     "output_type": "stream",
     "text": [
      "Original array: [1 2 3 4 5]\n",
      "Original data type: int64\n",
      "Converted array: [1. 2. 3. 4. 5.]\n",
      "Converted data type: float32\n"
     ]
    }
   ],
   "source": [
    "import numpy as np\n",
    "\n",
    "# Example integer array\n",
    "arr = np.array([1, 2, 3, 4, 5])\n",
    "\n",
    "# Convert the array to float32 data type\n",
    "arr_float32 = arr.astype(np.float32)\n",
    "\n",
    "# Print the original and converted arrays\n",
    "print(\"Original array:\", arr)\n",
    "print(\"Original data type:\", arr.dtype)\n",
    "print(\"Converted array:\", arr_float32)\n",
    "print(\"Converted data type:\", arr_float32.dtype)\n"
   ]
  },
  {
   "cell_type": "markdown",
   "id": "ed75f20d-eb56-4f32-a706-a627beafe015",
   "metadata": {},
   "source": [
    "Explanation:\n",
    "\n",
    "    The astype(np.float32) method converts the data type of the array to float32.\n",
    "    The original array remains unchanged, and a new array with the float32 data type is created."
   ]
  },
  {
   "cell_type": "raw",
   "id": "886c4691-3ac8-4181-819b-4d21470dca15",
   "metadata": {},
   "source": [
    "5.  Given a NumPy array 'arr' with float64 data type, convert it to float32 to reduce decimal precision."
   ]
  },
  {
   "cell_type": "code",
   "execution_count": 7,
   "id": "f451b4d2-2b29-4398-8d68-d2d96341b317",
   "metadata": {},
   "outputs": [
    {
     "name": "stdout",
     "output_type": "stream",
     "text": [
      "Original array: [1.23456789 2.34567891 3.45678912]\n",
      "Original data type: float64\n",
      "Converted array: [1.2345679 2.3456788 3.456789 ]\n",
      "Converted data type: float32\n"
     ]
    }
   ],
   "source": [
    "import numpy as np\n",
    "\n",
    "# Example array with float64 data type\n",
    "arr = np.array([1.23456789, 2.34567891, 3.45678912], dtype=np.float64)\n",
    "\n",
    "# Convert the array to float32 data type\n",
    "arr_float32 = arr.astype(np.float32)\n",
    "\n",
    "# Print the original and converted arrays\n",
    "print(\"Original array:\", arr)\n",
    "print(\"Original data type:\", arr.dtype)\n",
    "print(\"Converted array:\", arr_float32)\n",
    "print(\"Converted data type:\", arr_float32.dtype)\n"
   ]
  },
  {
   "cell_type": "markdown",
   "id": "bf1098da-35ab-4df6-95ec-53a63c694550",
   "metadata": {},
   "source": [
    "Explanation:\n",
    "\n",
    "    The astype(np.float32) method converts the array from float64 (64-bit floating point) to float32 (32-bit floating point), reducing the decimal precision.\n",
    "    The original array remains unchanged, and a new array with the float32 data type is created."
   ]
  },
  {
   "cell_type": "raw",
   "id": "1dfbe6ea-3153-4c51-ac53-a335fe44c45f",
   "metadata": {},
   "source": [
    "6.  Write a function array_attributes that takes a NumPy array as input and returns its shape, size, and data type."
   ]
  },
  {
   "cell_type": "code",
   "execution_count": 8,
   "id": "56fd578f-2ec1-4b9c-a741-413fa7c91c6f",
   "metadata": {},
   "outputs": [
    {
     "name": "stdout",
     "output_type": "stream",
     "text": [
      "Shape: (2, 3)\n",
      "Size: 6\n",
      "Data type: int64\n"
     ]
    }
   ],
   "source": [
    "import numpy as np\n",
    "\n",
    "def array_attributes(arr):\n",
    "    shape = arr.shape    # Get the shape of the array\n",
    "    size = arr.size      # Get the size (number of elements) of the array\n",
    "    dtype = arr.dtype    # Get the data type of the array\n",
    "\n",
    "    return shape, size, dtype\n",
    "\n",
    "# Example usage:\n",
    "arr = np.array([[1, 2, 3], [4, 5, 6]])\n",
    "shape, size, dtype = array_attributes(arr)\n",
    "\n",
    "print(\"Shape:\", shape)\n",
    "print(\"Size:\", size)\n",
    "print(\"Data type:\", dtype)\n"
   ]
  },
  {
   "cell_type": "markdown",
   "id": "4fac7427-297f-4e70-8820-750ded4a1726",
   "metadata": {},
   "source": [
    "Explanation:\n",
    "\n",
    "    arr.shape: Returns the shape of the array, which is a tuple representing the dimensions of the array.\n",
    "    arr.size: Returns the total number of elements in the array.\n",
    "    arr.dtype: Returns the data type of the elements in the array."
   ]
  },
  {
   "cell_type": "raw",
   "id": "dcfa3d79-4163-45ef-9145-bafa1aa5d084",
   "metadata": {},
   "source": [
    "7.  Create a function array_dimension that takes a NumPy array as input and returns its dimensionality."
   ]
  },
  {
   "cell_type": "code",
   "execution_count": 9,
   "id": "c2ff20be-2190-4317-b532-1c35eedcfc23",
   "metadata": {},
   "outputs": [
    {
     "name": "stdout",
     "output_type": "stream",
     "text": [
      "Dimensionality: 2\n"
     ]
    }
   ],
   "source": [
    "import numpy as np\n",
    "\n",
    "def array_dimension(arr):\n",
    "    # Return the number of dimensions of the array\n",
    "    return arr.ndim\n",
    "\n",
    "# Example usage:\n",
    "arr = np.array([[1, 2, 3], [4, 5, 6]])\n",
    "dimensionality = array_dimension(arr)\n",
    "\n",
    "print(\"Dimensionality:\", dimensionality)\n"
   ]
  },
  {
   "cell_type": "markdown",
   "id": "792ac4f1-ca28-48db-b6d5-66611ad92f6f",
   "metadata": {},
   "source": [
    "Explanation:\n",
    "\n",
    "    arr.ndim: Returns the number of dimensions (or axes) of the array."
   ]
  },
  {
   "cell_type": "raw",
   "id": "1ed1601e-e956-45a3-acfa-abff88d14300",
   "metadata": {},
   "source": [
    "8.  Design a function item_size_info that takes a NumPy array as input and returns the item size and the total\n",
    "size in bytes"
   ]
  },
  {
   "cell_type": "code",
   "execution_count": 10,
   "id": "c957c374-0733-4435-8545-4080d5815ff0",
   "metadata": {},
   "outputs": [
    {
     "name": "stdout",
     "output_type": "stream",
     "text": [
      "Item size: 8 bytes\n",
      "Total size: 48 bytes\n"
     ]
    }
   ],
   "source": [
    "import numpy as np\n",
    "\n",
    "def item_size_info(arr):\n",
    "    item_size = arr.itemsize    # Size of each element in bytes\n",
    "    total_size = arr.nbytes      # Total size of the array in bytes\n",
    "    \n",
    "    return item_size, total_size\n",
    "\n",
    "# Example usage:\n",
    "arr = np.array([[1, 2, 3], [4, 5, 6]])\n",
    "item_size, total_size = item_size_info(arr)\n",
    "\n",
    "print(\"Item size:\", item_size, \"bytes\")\n",
    "print(\"Total size:\", total_size, \"bytes\")\n"
   ]
  },
  {
   "cell_type": "markdown",
   "id": "99994249-b340-4643-a05a-bd6d5abbf467",
   "metadata": {},
   "source": [
    "Explanation:\n",
    "\n",
    "    arr.itemsize: Returns the size (in bytes) of each element in the array.\n",
    "    arr.nbytes: Returns the total number of bytes consumed by the elements of the array."
   ]
  },
  {
   "cell_type": "raw",
   "id": "1e5e27ba-763a-4327-935d-76017d105caf",
   "metadata": {},
   "source": [
    "9. Create a function array_strides that takes a NumPy array as input and returns the strides of the array."
   ]
  },
  {
   "cell_type": "code",
   "execution_count": 11,
   "id": "4fb06e5f-45b6-4696-85a7-35aaf254d59f",
   "metadata": {},
   "outputs": [
    {
     "name": "stdout",
     "output_type": "stream",
     "text": [
      "Strides: (24, 8)\n"
     ]
    }
   ],
   "source": [
    "import numpy as np\n",
    "\n",
    "def array_strides(arr):\n",
    "    # Return the strides of the array\n",
    "    return arr.strides\n",
    "\n",
    "# Example usage:\n",
    "arr = np.array([[1, 2, 3], [4, 5, 6]])\n",
    "strides = array_strides(arr)\n",
    "\n",
    "print(\"Strides:\", strides)\n"
   ]
  },
  {
   "cell_type": "markdown",
   "id": "ab31ed10-85b6-4bea-a792-c59bd64a1559",
   "metadata": {},
   "source": [
    "Explanation:\n",
    "\n",
    "    arr.strides: Returns the strides of the array as a tuple. Each value in the tuple represents the number of bytes to step in each dimension when traversing the array."
   ]
  },
  {
   "cell_type": "raw",
   "id": "102b683d-d6ab-4f7d-8ad6-e3eb3a7ba35d",
   "metadata": {},
   "source": [
    "10.  Design a function shape_stride_relationship that takes a NumPy array as input and returns the shape\n",
    "and strides of the array."
   ]
  },
  {
   "cell_type": "code",
   "execution_count": 12,
   "id": "f8a35a5c-3912-45f7-9368-d08cb6e2c1f7",
   "metadata": {},
   "outputs": [
    {
     "name": "stdout",
     "output_type": "stream",
     "text": [
      "Shape: (2, 3)\n",
      "Strides: (24, 8)\n"
     ]
    }
   ],
   "source": [
    "import numpy as np\n",
    "\n",
    "def shape_stride_relationship(arr):\n",
    "    shape = arr.shape    # Get the shape of the array\n",
    "    strides = arr.strides # Get the strides of the array\n",
    "    \n",
    "    return shape, strides\n",
    "\n",
    "# Example usage:\n",
    "arr = np.array([[1, 2, 3], [4, 5, 6]])\n",
    "shape, strides = shape_stride_relationship(arr)\n",
    "\n",
    "print(\"Shape:\", shape)\n",
    "print(\"Strides:\", strides)\n"
   ]
  },
  {
   "cell_type": "raw",
   "id": "571637f6-64c2-4b63-8a8c-496d9a35a547",
   "metadata": {},
   "source": [
    "Explanation:\n",
    "\n",
    "    arr.shape: Returns the shape of the array as a tuple representing the dimensions.\n",
    "    arr.strides: Returns the strides of the array as a tuple. Strides indicate how many bytes you need to step in memory to move from one element to the next along each dimension."
   ]
  },
  {
   "cell_type": "raw",
   "id": "06ee97ce-62cc-4f75-af0d-089421d6a75e",
   "metadata": {},
   "source": [
    "11. . Create a function `create_zeros_array` that takes an integer `n` as input and returns a NumPy array of\n",
    "zeros with `n` elements"
   ]
  },
  {
   "cell_type": "code",
   "execution_count": 13,
   "id": "de30202c-30be-490c-9704-3bc12934af65",
   "metadata": {},
   "outputs": [
    {
     "name": "stdout",
     "output_type": "stream",
     "text": [
      "Array of zeros: [0. 0. 0. 0. 0.]\n"
     ]
    }
   ],
   "source": [
    "import numpy as np\n",
    "\n",
    "def create_zeros_array(n):\n",
    "    # Create an array of zeros with n elements\n",
    "    return np.zeros(n)\n",
    "\n",
    "# Example usage:\n",
    "n = 5\n",
    "zeros_array = create_zeros_array(n)\n",
    "\n",
    "print(\"Array of zeros:\", zeros_array)\n"
   ]
  },
  {
   "cell_type": "markdown",
   "id": "915ba1f8-c09f-4c44-a6bf-1916fac52869",
   "metadata": {},
   "source": [
    "Explanation:\n",
    "\n",
    "    np.zeros(n): Creates a NumPy array of shape (n,) filled with zeros. The array has n elements, all initialized to zero."
   ]
  },
  {
   "cell_type": "raw",
   "id": "646af95c-6066-4c1a-9629-8f0df54acd15",
   "metadata": {},
   "source": [
    "12. Write a function `create_ones_matrix` that takes integers `rows` and `cols` as inputs and generates a 2D\n",
    "NumPy array filled with ones of size `rows x cols`."
   ]
  },
  {
   "cell_type": "code",
   "execution_count": 14,
   "id": "3ea63adf-3d15-4b02-8edf-25ce2c824d01",
   "metadata": {},
   "outputs": [
    {
     "name": "stdout",
     "output_type": "stream",
     "text": [
      "2D array of ones:\n",
      " [[1. 1. 1. 1.]\n",
      " [1. 1. 1. 1.]\n",
      " [1. 1. 1. 1.]]\n"
     ]
    }
   ],
   "source": [
    "import numpy as np\n",
    "\n",
    "def create_ones_matrix(rows, cols):\n",
    "    # Create a 2D array of ones with dimensions rows x cols\n",
    "    return np.ones((rows, cols))\n",
    "\n",
    "# Example usage:\n",
    "rows = 3\n",
    "cols = 4\n",
    "ones_matrix = create_ones_matrix(rows, cols)\n",
    "\n",
    "print(\"2D array of ones:\\n\", ones_matrix)\n"
   ]
  },
  {
   "cell_type": "markdown",
   "id": "e1d9128f-e8c4-48fa-b8fa-68cc15db1fb7",
   "metadata": {},
   "source": [
    "Explanation:\n",
    "\n",
    "    np.ones((rows, cols)): Creates a 2D NumPy array with the specified number of rows and columns, filled with ones. The shape of the array is (rows, cols)."
   ]
  },
  {
   "cell_type": "raw",
   "id": "d1304a42-cbbd-4e9c-9623-7b6b522df455",
   "metadata": {},
   "source": [
    "13.  Write a function `generate_range_array` that takes three integers start, stop, and step as arguments and\n",
    "creates a NumPy array with a range starting from `start`, ending at stop (exclusive), and with the specified\n",
    "`step`"
   ]
  },
  {
   "cell_type": "code",
   "execution_count": 15,
   "id": "3af926fc-8efc-47ef-8aad-d428ffafae24",
   "metadata": {},
   "outputs": [
    {
     "name": "stdout",
     "output_type": "stream",
     "text": [
      "Range array: [0 2 4 6 8]\n"
     ]
    }
   ],
   "source": [
    "import numpy as np\n",
    "\n",
    "def generate_range_array(start, stop, step):\n",
    "    # Create a NumPy array with the specified range and step\n",
    "    return np.arange(start, stop, step)\n",
    "\n",
    "# Example usage:\n",
    "start = 0\n",
    "stop = 10\n",
    "step = 2\n",
    "range_array = generate_range_array(start, stop, step)\n",
    "\n",
    "print(\"Range array:\", range_array)\n"
   ]
  },
  {
   "cell_type": "markdown",
   "id": "73288c8e-c873-4a40-ab94-4842673e8ee7",
   "metadata": {},
   "source": [
    "Explanation:\n",
    "\n",
    "    np.arange(start, stop, step): Creates a NumPy array with values starting from start, ending before stop, and with increments of step."
   ]
  },
  {
   "cell_type": "raw",
   "id": "309d3f03-56e8-4b57-a49c-49d053d9922c",
   "metadata": {},
   "source": [
    "14. Design a function `generate_linear_space` that takes two floats `start`, `stop`, and an integer `num` as\n",
    "arguments and generates a NumPy array with num equally spaced values between `start` and `stop`\n",
    "(inclusive)."
   ]
  },
  {
   "cell_type": "code",
   "execution_count": 16,
   "id": "6a6b1b3a-a2a2-42d4-ae8b-713d2f11b4ce",
   "metadata": {},
   "outputs": [
    {
     "name": "stdout",
     "output_type": "stream",
     "text": [
      "Linear space array: [0.   0.25 0.5  0.75 1.  ]\n"
     ]
    }
   ],
   "source": [
    "import numpy as np\n",
    "\n",
    "def generate_linear_space(start, stop, num):\n",
    "    # Create a NumPy array with num equally spaced values between start and stop (inclusive)\n",
    "    return np.linspace(start, stop, num)\n",
    "\n",
    "# Example usage:\n",
    "start = 0.0\n",
    "stop = 1.0\n",
    "num = 5\n",
    "linear_space_array = generate_linear_space(start, stop, num)\n",
    "\n",
    "print(\"Linear space array:\", linear_space_array)\n"
   ]
  },
  {
   "cell_type": "markdown",
   "id": "b7625af6-926c-4ba5-a901-b2d80adbe029",
   "metadata": {},
   "source": [
    "Explanation:\n",
    "\n",
    "    np.linspace(start, stop, num): Generates num equally spaced values between start and stop (inclusive). The function ensures that both start and stop are included in the output array."
   ]
  },
  {
   "cell_type": "raw",
   "id": "f9f04eb1-012e-45cf-b6b3-eab3d0cbea1c",
   "metadata": {},
   "source": [
    "15. Create a function `create_identity_matrix` that takes an integer `n` as input and generates a square\n",
    "identity matrix of size `n x n` using `numpy.eye`."
   ]
  },
  {
   "cell_type": "code",
   "execution_count": 17,
   "id": "3e848c9a-0a2c-44f5-aa9e-096896ce12e3",
   "metadata": {},
   "outputs": [
    {
     "name": "stdout",
     "output_type": "stream",
     "text": [
      "Identity matrix:\n",
      " [[1. 0. 0. 0.]\n",
      " [0. 1. 0. 0.]\n",
      " [0. 0. 1. 0.]\n",
      " [0. 0. 0. 1.]]\n"
     ]
    }
   ],
   "source": [
    "import numpy as np\n",
    "\n",
    "def create_identity_matrix(n):\n",
    "    # Create a square identity matrix of size n x n\n",
    "    return np.eye(n)\n",
    "\n",
    "# Example usage:\n",
    "n = 4\n",
    "identity_matrix = create_identity_matrix(n)\n",
    "\n",
    "print(\"Identity matrix:\\n\", identity_matrix)\n"
   ]
  },
  {
   "cell_type": "markdown",
   "id": "ee8a9185-619a-47d4-b489-bdc9292e4182",
   "metadata": {},
   "source": [
    "Explanation:\n",
    "\n",
    "    np.eye(n): Generates an n x n identity matrix. An identity matrix has ones on the diagonal and zeros elsewhere."
   ]
  },
  {
   "cell_type": "raw",
   "id": "f3a04a4f-057e-41d6-b6d6-b0b458202af3",
   "metadata": {},
   "source": [
    "16. Write a function that takes a Python list and converts it into a NumPy array.\n"
   ]
  },
  {
   "cell_type": "code",
   "execution_count": 18,
   "id": "1e34ce9b-9999-4608-a94c-a3d081eb46e5",
   "metadata": {},
   "outputs": [
    {
     "name": "stdout",
     "output_type": "stream",
     "text": [
      "NumPy array: [1 2 3 4 5]\n"
     ]
    }
   ],
   "source": [
    "import numpy as np\n",
    "\n",
    "def list_to_array(py_list):\n",
    "    # Convert the Python list to a NumPy array\n",
    "    return np.array(py_list)\n",
    "\n",
    "# Example usage:\n",
    "py_list = [1, 2, 3, 4, 5]\n",
    "numpy_array = list_to_array(py_list)\n",
    "\n",
    "print(\"NumPy array:\", numpy_array)\n"
   ]
  },
  {
   "cell_type": "markdown",
   "id": "203c1be3-ea3f-4070-8359-77653e999943",
   "metadata": {},
   "source": [
    "Explanation:\n",
    "\n",
    "    np.array(py_list): Converts the Python list py_list into a NumPy array."
   ]
  },
  {
   "cell_type": "raw",
   "id": "067ab235-e2a9-4dc3-8f77-bb26ef9f514f",
   "metadata": {},
   "source": [
    "17.  Create a NumPy array and demonstrate the use of `numpy.view` to create a new array object with the\n",
    "same data."
   ]
  },
  {
   "cell_type": "code",
   "execution_count": 19,
   "id": "9d077e34-0d84-4a87-8cda-2f62ac79a3b8",
   "metadata": {},
   "outputs": [
    {
     "name": "stdout",
     "output_type": "stream",
     "text": [
      "Original array: [1 2 3 4 5]\n",
      "Original array data type: int32\n",
      "Array view: [1.e-45 3.e-45 4.e-45 6.e-45 7.e-45]\n",
      "Array view data type: float32\n"
     ]
    }
   ],
   "source": [
    "import numpy as np\n",
    "\n",
    "# Create a NumPy array\n",
    "original_array = np.array([1, 2, 3, 4, 5], dtype=np.int32)\n",
    "\n",
    "# Create a view of the original array with the same data but with a different data type\n",
    "array_view = original_array.view(dtype=np.float32)\n",
    "\n",
    "# Print the original array and the view\n",
    "print(\"Original array:\", original_array)\n",
    "print(\"Original array data type:\", original_array.dtype)\n",
    "\n",
    "print(\"Array view:\", array_view)\n",
    "print(\"Array view data type:\", array_view.dtype)\n"
   ]
  },
  {
   "cell_type": "markdown",
   "id": "a5018658-488d-4b6b-9ee6-4ea8e0d01a16",
   "metadata": {},
   "source": [
    "Explanation:\n",
    "\n",
    "    original_array.view(dtype=np.float32): Creates a new view of the original array with a different data type (float32 in this case). The underlying data is shared, so modifying the data in the view will affect the original array and vice versa.\n",
    "    dtype: Specifies the data type of the view."
   ]
  },
  {
   "cell_type": "raw",
   "id": "3f77d337-66d6-41d6-b2c5-537f055f0450",
   "metadata": {},
   "source": [
    "18. Write a function that takes two NumPy arrays and concatenates them along a specified axis."
   ]
  },
  {
   "cell_type": "code",
   "execution_count": 20,
   "id": "046d92c8-83ea-4693-82aa-7f6a4d269120",
   "metadata": {},
   "outputs": [
    {
     "name": "stdout",
     "output_type": "stream",
     "text": [
      "Concatenated along axis 0:\n",
      " [[ 1  2  3]\n",
      " [ 4  5  6]\n",
      " [ 7  8  9]\n",
      " [10 11 12]]\n",
      "Concatenated along axis 1:\n",
      " [[ 1  2  3  7  8  9]\n",
      " [ 4  5  6 10 11 12]]\n"
     ]
    }
   ],
   "source": [
    "import numpy as np\n",
    "\n",
    "def concatenate_arrays(array1, array2, axis):\n",
    "    # Concatenate the two arrays along the specified axis\n",
    "    return np.concatenate((array1, array2), axis=axis)\n",
    "\n",
    "# Example usage:\n",
    "array1 = np.array([[1, 2, 3], [4, 5, 6]])\n",
    "array2 = np.array([[7, 8, 9], [10, 11, 12]])\n",
    "\n",
    "# Concatenate along axis 0 (rows)\n",
    "concatenated_axis0 = concatenate_arrays(array1, array2, axis=0)\n",
    "print(\"Concatenated along axis 0:\\n\", concatenated_axis0)\n",
    "\n",
    "# Concatenate along axis 1 (columns)\n",
    "concatenated_axis1 = concatenate_arrays(array1, array2, axis=1)\n",
    "print(\"Concatenated along axis 1:\\n\", concatenated_axis1)\n"
   ]
  },
  {
   "cell_type": "markdown",
   "id": "7339919e-ccb2-4e0b-8710-ee836a673c2a",
   "metadata": {},
   "source": [
    "Explanation:\n",
    "\n",
    "    np.concatenate((array1, array2), axis=axis): Concatenates the two input arrays along the specified axis.\n",
    "        axis=0 concatenates along the rows (vertical stacking).\n",
    "        axis=1 concatenates along the columns (horizontal stacking)."
   ]
  },
  {
   "cell_type": "raw",
   "id": "3422a39c-3ae3-4465-a558-5db17bc4cd49",
   "metadata": {},
   "source": [
    "19.  Create two NumPy arrays with different shapes and concatenate them horizontally using `numpy.\n",
    "\n",
    "concatenate`."
   ]
  },
  {
   "cell_type": "code",
   "execution_count": 21,
   "id": "4f71924e-62f2-4632-8aba-cfc03394804c",
   "metadata": {},
   "outputs": [
    {
     "name": "stdout",
     "output_type": "stream",
     "text": [
      "Array 1:\n",
      " [[1 2 3]\n",
      " [4 5 6]]\n",
      "Array 2:\n",
      " [[ 7  8]\n",
      " [ 9 10]]\n",
      "Concatenated array:\n",
      " [[ 1  2  3  7  8]\n",
      " [ 4  5  6  9 10]]\n"
     ]
    }
   ],
   "source": [
    "import numpy as np\n",
    "\n",
    "# Create two NumPy arrays with the same number of rows but different numbers of columns\n",
    "array1 = np.array([[1, 2, 3], [4, 5, 6]])\n",
    "array2 = np.array([[7, 8], [9, 10]])\n",
    "\n",
    "# Concatenate the arrays horizontally (along axis 1)\n",
    "concatenated_array = np.concatenate((array1, array2), axis=1)\n",
    "\n",
    "print(\"Array 1:\\n\", array1)\n",
    "print(\"Array 2:\\n\", array2)\n",
    "print(\"Concatenated array:\\n\", concatenated_array)\n"
   ]
  },
  {
   "cell_type": "markdown",
   "id": "20ccc058-0612-440c-b7bc-f45d98a2830d",
   "metadata": {},
   "source": [
    "Explanation:\n",
    "\n",
    "    np.concatenate((array1, array2), axis=1): Concatenates array1 and array2 along the columns (axis 1). The arrays must have the same number of rows for this to work."
   ]
  },
  {
   "cell_type": "raw",
   "id": "ee51e35c-5049-4317-b475-9385300ba3f6",
   "metadata": {},
   "source": [
    "20. Write a function that vertically stacks multiple NumPy arrays given as a list."
   ]
  },
  {
   "cell_type": "code",
   "execution_count": 22,
   "id": "0a95c1a8-825d-4a10-9fbd-31030084174c",
   "metadata": {},
   "outputs": [
    {
     "name": "stdout",
     "output_type": "stream",
     "text": [
      "Stacked array:\n",
      " [[ 1  2  3]\n",
      " [ 4  5  6]\n",
      " [ 7  8  9]\n",
      " [10 11 12]\n",
      " [13 14 15]]\n"
     ]
    }
   ],
   "source": [
    "import numpy as np\n",
    "\n",
    "def vertical_stack(arrays):\n",
    "    # Vertically stack multiple NumPy arrays given as a list\n",
    "    return np.vstack(arrays)\n",
    "\n",
    "# Example usage:\n",
    "array1 = np.array([[1, 2, 3], [4, 5, 6]])\n",
    "array2 = np.array([[7, 8, 9], [10, 11, 12]])\n",
    "array3 = np.array([[13, 14, 15]])\n",
    "\n",
    "# List of arrays to stack\n",
    "arrays_list = [array1, array2, array3]\n",
    "\n",
    "# Stack the arrays vertically\n",
    "stacked_array = vertical_stack(arrays_list)\n",
    "\n",
    "print(\"Stacked array:\\n\", stacked_array)\n"
   ]
  },
  {
   "cell_type": "markdown",
   "id": "642a82ba-d49e-4dbc-9d9b-8dc77e460485",
   "metadata": {},
   "source": [
    "Explanation:\n",
    "\n",
    "    np.vstack(arrays): Stacks the arrays vertically (along axis 0). All arrays must have the same number of columns."
   ]
  },
  {
   "cell_type": "raw",
   "id": "e9e144fc-8d04-4387-b788-b308dc87c3b5",
   "metadata": {},
   "source": [
    "21. Write a Python function using NumPy to create an array of integers within a specified range (inclusive)\n",
    "with a given step size."
   ]
  },
  {
   "cell_type": "code",
   "execution_count": 23,
   "id": "31df20f9-ccaa-47dd-9ce7-cea17c65776e",
   "metadata": {},
   "outputs": [
    {
     "name": "stdout",
     "output_type": "stream",
     "text": [
      "Range array: [1 3 5 7 9]\n"
     ]
    }
   ],
   "source": [
    "import numpy as np\n",
    "\n",
    "def create_range_array(start, stop, step):\n",
    "    \"\"\"\n",
    "    Create a NumPy array of integers within the specified range [start, stop] (inclusive) with the given step size.\n",
    "    \n",
    "    Parameters:\n",
    "    start (int): The start of the range (inclusive).\n",
    "    stop (int): The end of the range (inclusive).\n",
    "    step (int): The step size between each number in the range.\n",
    "    \n",
    "    Returns:\n",
    "    np.ndarray: Array of integers within the specified range with the given step size.\n",
    "    \"\"\"\n",
    "    # Create an array of integers from start to stop (inclusive) with the specified step size\n",
    "    return np.arange(start, stop + 1, step)\n",
    "\n",
    "# Example usage:\n",
    "start = 1\n",
    "stop = 10\n",
    "step = 2\n",
    "\n",
    "range_array = create_range_array(start, stop, step)\n",
    "\n",
    "print(\"Range array:\", range_array)\n"
   ]
  },
  {
   "cell_type": "markdown",
   "id": "ca0e4f78-a9b2-4f34-a36e-2aa4d3292127",
   "metadata": {},
   "source": [
    "Explanation:\n",
    "\n",
    "    np.arange(start, stop + 1, step): Generates an array of integers starting from start and ending at stop (inclusive), with a specified step. Adding 1 to stop ensures that the stop value is included if it fits within the specified step size."
   ]
  },
  {
   "cell_type": "raw",
   "id": "cd66664d-e2a5-4778-b553-7d448180f778",
   "metadata": {},
   "source": [
    "22.  Write a Python function using NumPy to generate an array of 10 equally spaced values between 0 and 1\n",
    "(inclusive)."
   ]
  },
  {
   "cell_type": "code",
   "execution_count": 24,
   "id": "9b733cca-40c3-4e8e-8ecf-d59cd6a4263d",
   "metadata": {},
   "outputs": [
    {
     "name": "stdout",
     "output_type": "stream",
     "text": [
      "Array of equally spaced values: [0.         0.11111111 0.22222222 0.33333333 0.44444444 0.55555556\n",
      " 0.66666667 0.77777778 0.88888889 1.        ]\n"
     ]
    }
   ],
   "source": [
    "import numpy as np\n",
    "\n",
    "def generate_equally_spaced_array(start, stop, num):\n",
    "    \"\"\"\n",
    "    Generate a NumPy array of `num` equally spaced values between `start` and `stop` (inclusive).\n",
    "    \n",
    "    Parameters:\n",
    "    start (float): The start of the range (inclusive).\n",
    "    stop (float): The end of the range (inclusive).\n",
    "    num (int): The number of equally spaced values to generate.\n",
    "    \n",
    "    Returns:\n",
    "    np.ndarray: Array of equally spaced values.\n",
    "    \"\"\"\n",
    "    # Generate an array of `num` equally spaced values between `start` and `stop` (inclusive)\n",
    "    return np.linspace(start, stop, num)\n",
    "\n",
    "# Example usage:\n",
    "start = 0\n",
    "stop = 1\n",
    "num = 10\n",
    "\n",
    "array = generate_equally_spaced_array(start, stop, num)\n",
    "\n",
    "print(\"Array of equally spaced values:\", array)\n"
   ]
  },
  {
   "cell_type": "markdown",
   "id": "a258fd45-76d5-4203-bd8a-ed275a2f7ab4",
   "metadata": {},
   "source": [
    "Explanation:\n",
    "\n",
    "    np.linspace(start, stop, num): Generates num equally spaced values between start and stop, including both endpoints."
   ]
  },
  {
   "cell_type": "raw",
   "id": "132527e5-75c7-46b8-a8cd-653916b3e85d",
   "metadata": {},
   "source": [
    "23. Write a Python function using NumPy to create an array of 5 logarithmically spaced values between 1 and\n",
    "1000 (inclusive)."
   ]
  },
  {
   "cell_type": "code",
   "execution_count": 25,
   "id": "58dc23c6-2224-4fcb-8e4f-f3bef0539e90",
   "metadata": {},
   "outputs": [
    {
     "name": "stdout",
     "output_type": "stream",
     "text": [
      "Logarithmically spaced values: [   1.            5.62341325   31.6227766   177.827941   1000.        ]\n"
     ]
    }
   ],
   "source": [
    "import numpy as np\n",
    "\n",
    "def generate_log_space_array(start, stop, num):\n",
    "    \"\"\"\n",
    "    Generate a NumPy array of `num` logarithmically spaced values between `start` and `stop` (inclusive).\n",
    "    \n",
    "    Parameters:\n",
    "    start (float): The start of the range (base 10 logarithm of the smallest value).\n",
    "    stop (float): The end of the range (base 10 logarithm of the largest value).\n",
    "    num (int): The number of logarithmically spaced values to generate.\n",
    "    \n",
    "    Returns:\n",
    "    np.ndarray: Array of logarithmically spaced values.\n",
    "    \"\"\"\n",
    "    # Generate an array of `num` logarithmically spaced values between `10**start` and `10**stop`\n",
    "    return np.logspace(start, stop, num)\n",
    "\n",
    "# Example usage:\n",
    "start = 0  # log10(1)\n",
    "stop = 3   # log10(1000)\n",
    "num = 5\n",
    "\n",
    "log_space_array = generate_log_space_array(start, stop, num)\n",
    "\n",
    "print(\"Logarithmically spaced values:\", log_space_array)\n"
   ]
  },
  {
   "cell_type": "markdown",
   "id": "eaabb57d-8de3-4409-914f-0419ad24df56",
   "metadata": {},
   "source": [
    "Explanation:\n",
    "\n",
    "    np.logspace(start, stop, num): Generates num logarithmically spaced values between 10start10start and 10stop10stop. The values are spaced evenly on a logarithmic scale."
   ]
  },
  {
   "cell_type": "raw",
   "id": "b5ab1f12-4e77-4f8f-9410-9dc605076b3d",
   "metadata": {},
   "source": [
    "24. Create a Pandas DataFrame using a NumPy array that contains 5 rows and 3 columns, where the values\n",
    "are random integers between 1 and 100."
   ]
  },
  {
   "cell_type": "code",
   "execution_count": 26,
   "id": "23a33bb6-7bd2-4b80-b124-90a724786ebe",
   "metadata": {},
   "outputs": [
    {
     "name": "stdout",
     "output_type": "stream",
     "text": [
      "   Column1  Column2  Column3\n",
      "0       64       76       79\n",
      "1       41       56       51\n",
      "2       60       75       61\n",
      "3       34        5       42\n",
      "4       45       88       30\n"
     ]
    }
   ],
   "source": [
    "import numpy as np\n",
    "import pandas as pd\n",
    "\n",
    "# Generate a NumPy array with random integers between 1 and 100\n",
    "np_array = np.random.randint(1, 101, size=(5, 3))\n",
    "\n",
    "# Create a Pandas DataFrame from the NumPy array\n",
    "df = pd.DataFrame(np_array, columns=['Column1', 'Column2', 'Column3'])\n",
    "\n",
    "# Print the DataFrame\n",
    "print(df)\n"
   ]
  },
  {
   "cell_type": "markdown",
   "id": "0e3f4aa1-9b22-41e3-b175-9b1d123a04c6",
   "metadata": {},
   "source": [
    "Explanation:\n",
    "\n",
    "    np.random.randint(1, 101, size=(5, 3)): Generates a NumPy array of shape (5, 3) with random integers between 1 (inclusive) and 100 (exclusive).\n",
    "    pd.DataFrame(np_array, columns=['Column1', 'Column2', 'Column3']): Creates a Pandas DataFrame from the NumPy array. You can specify column names using the columns parameter."
   ]
  },
  {
   "cell_type": "raw",
   "id": "ef99c6c7-9607-44ce-ae2e-96654ad17106",
   "metadata": {},
   "source": [
    "25. Write a function that takes a Pandas DataFrame and replaces all negative values in a specific column\n",
    "with zeros. Use NumPy operations within the Pandas DataFrame."
   ]
  },
  {
   "cell_type": "code",
   "execution_count": 27,
   "id": "5fc13011-8aa1-4002-8491-774b6a3f4bd8",
   "metadata": {},
   "outputs": [
    {
     "name": "stdout",
     "output_type": "stream",
     "text": [
      "Original DataFrame:\n",
      "     A   B\n",
      "0  10  -2\n",
      "1  -5  15\n",
      "2   3  -7\n",
      "3  -1   8\n",
      "Modified DataFrame:\n",
      "     A   B\n",
      "0  10  -2\n",
      "1   0  15\n",
      "2   3  -7\n",
      "3   0   8\n"
     ]
    }
   ],
   "source": [
    "import pandas as pd\n",
    "import numpy as np\n",
    "\n",
    "def replace_negatives_with_zeros(df, column_name):\n",
    "    \"\"\"\n",
    "    Replace all negative values in a specific column of the DataFrame with zeros.\n",
    "    \n",
    "    Parameters:\n",
    "    df (pd.DataFrame): The DataFrame containing the data.\n",
    "    column_name (str): The name of the column in which to replace negative values.\n",
    "    \n",
    "    Returns:\n",
    "    pd.DataFrame: DataFrame with negative values replaced by zeros in the specified column.\n",
    "    \"\"\"\n",
    "    # Use NumPy operations to replace negative values with zeros in the specified column\n",
    "    df[column_name] = np.where(df[column_name] < 0, 0, df[column_name])\n",
    "    return df\n",
    "\n",
    "# Example usage:\n",
    "# Create a sample DataFrame\n",
    "data = {'A': [10, -5, 3, -1], 'B': [-2, 15, -7, 8]}\n",
    "df = pd.DataFrame(data)\n",
    "\n",
    "print(\"Original DataFrame:\\n\", df)\n",
    "\n",
    "# Replace negative values in column 'A' with zeros\n",
    "df_modified = replace_negatives_with_zeros(df, 'A')\n",
    "\n",
    "print(\"Modified DataFrame:\\n\", df_modified)\n"
   ]
  },
  {
   "cell_type": "markdown",
   "id": "35878674-9e36-4fce-a2df-a9fe4a439337",
   "metadata": {},
   "source": [
    "Explanation:\n",
    "\n",
    "    np.where(condition, x, y): This function returns an array with elements chosen from x or y depending on the condition. Here, if the condition (df[column_name] < 0) is True, it replaces the value with 0; otherwise, it keeps the original value.\n",
    "    df[column_name] = np.where(df[column_name] < 0, 0, df[column_name]): This line applies the np.where function to the specified column in the DataFrame, replacing negative values with zeros."
   ]
  },
  {
   "cell_type": "raw",
   "id": "827335a3-f667-4144-9f1a-f1c6b3a59968",
   "metadata": {},
   "source": [
    "26. Access the 3rd element from the given NumPy array.\n",
    "arr = np.array([10, 20, 30, 40, 50])"
   ]
  },
  {
   "cell_type": "code",
   "execution_count": 28,
   "id": "905b4674-7ab5-474f-a204-10858dcc8814",
   "metadata": {},
   "outputs": [
    {
     "name": "stdout",
     "output_type": "stream",
     "text": [
      "The 3rd element is: 30\n"
     ]
    }
   ],
   "source": [
    "import numpy as np\n",
    "\n",
    "# Given NumPy array\n",
    "arr = np.array([10, 20, 30, 40, 50])\n",
    "\n",
    "# Access the 3rd element (index 2)\n",
    "third_element = arr[2]\n",
    "\n",
    "print(\"The 3rd element is:\", third_element)\n"
   ]
  },
  {
   "cell_type": "markdown",
   "id": "55072184-3a83-4b3e-9e7b-427ae690ba7a",
   "metadata": {},
   "source": [
    "Explanation:\n",
    "\n",
    "    arr[2]: Accesses the element at index 2, which is the 3rd element in zero-indexed arrays."
   ]
  },
  {
   "cell_type": "raw",
   "id": "294e6975-5de1-4fbc-95ac-cc8801410dab",
   "metadata": {},
   "source": [
    "27. Retrieve the element at index (1, 2) from the 2D NumPy array.\n",
    "arr_2d = np.array([[1, 2, 3], ",
    "\n",
    "[4, 5, 6], ",
    "\n",
    "[7, 8, 9]])"
   ]
  },
  {
   "cell_type": "code",
   "execution_count": 29,
   "id": "837e5abe-9bd5-4927-b3e3-7251cf2bc908",
   "metadata": {},
   "outputs": [
    {
     "name": "stdout",
     "output_type": "stream",
     "text": [
      "Element at index (1, 2) is: 6\n"
     ]
    }
   ],
   "source": [
    "import numpy as np\n",
    "\n",
    "# Given 2D NumPy array\n",
    "arr_2d = np.array([[1, 2, 3],\n",
    "                   [4, 5, 6],\n",
    "                   [7, 8, 9]])\n",
    "\n",
    "# Retrieve the element at index (1, 2)\n",
    "element = arr_2d[1, 2]\n",
    "\n",
    "print(\"Element at index (1, 2) is:\", element)\n"
   ]
  },
  {
   "cell_type": "markdown",
   "id": "9f693f4d-4a64-4425-8f70-5e4368b91d4e",
   "metadata": {},
   "source": [
    "Explanation:\n",
    "\n",
    "    arr_2d[1, 2]: Accesses the element in the 2nd row (index 1) and the 3rd column (index 2) of the 2D array."
   ]
  },
  {
   "cell_type": "raw",
   "id": "ad0d4090-ef94-4830-8f81-69602aa7a8bf",
   "metadata": {},
   "source": [
    "28.Using boolean indexing, extract elements greater than 5 from the given NumPy array.\n",
    "arr = np.array([3, 8, 2, 10, 5, 7])"
   ]
  },
  {
   "cell_type": "code",
   "execution_count": 30,
   "id": "accccee1-c3a7-49b8-8f01-93134d060059",
   "metadata": {},
   "outputs": [
    {
     "name": "stdout",
     "output_type": "stream",
     "text": [
      "Elements greater than 5 are: [ 8 10  7]\n"
     ]
    }
   ],
   "source": [
    "import numpy as np\n",
    "\n",
    "# Given NumPy array\n",
    "arr = np.array([3, 8, 2, 10, 5, 7])\n",
    "\n",
    "# Create a boolean mask for elements greater than 5\n",
    "mask = arr > 5\n",
    "\n",
    "# Extract elements using the boolean mask\n",
    "filtered_elements = arr[mask]\n",
    "\n",
    "print(\"Elements greater than 5 are:\", filtered_elements)\n"
   ]
  },
  {
   "cell_type": "markdown",
   "id": "4886cecd-5593-42b7-b206-73dda656b97c",
   "metadata": {},
   "source": [
    "Explanation:\n",
    "\n",
    "    arr > 5: Creates a boolean array where each position is True if the corresponding element in arr is greater than 5, and False otherwise.\n",
    "    arr[mask]: Uses the boolean mask to filter and return only the elements of arr where the mask is True."
   ]
  },
  {
   "cell_type": "raw",
   "id": "0da9897b-b3bb-4509-a5ce-4e6773004ffb",
   "metadata": {},
   "source": [
    "29. Perform basic slicing to extract elements from index 2 to 5 (inclusive) from the given NumPy array.\n",
    "arr = np.array([1, 2, 3, 4, 5, 6, 7, 8, 9])"
   ]
  },
  {
   "cell_type": "code",
   "execution_count": 31,
   "id": "89df7ce0-a12b-42f5-8827-971f7352a563",
   "metadata": {},
   "outputs": [
    {
     "name": "stdout",
     "output_type": "stream",
     "text": [
      "Elements from index 2 to 5 are: [3 4 5 6]\n"
     ]
    }
   ],
   "source": [
    "import numpy as np\n",
    "\n",
    "# Given NumPy array\n",
    "arr = np.array([1, 2, 3, 4, 5, 6, 7, 8, 9])\n",
    "\n",
    "# Extract elements from index 2 to 5 (inclusive)\n",
    "sliced_elements = arr[2:6]\n",
    "\n",
    "print(\"Elements from index 2 to 5 are:\", sliced_elements)\n"
   ]
  },
  {
   "cell_type": "markdown",
   "id": "a3f2c88f-a0c3-4a75-aca7-de09f58e8f6c",
   "metadata": {},
   "source": [
    "Explanation:\n",
    "\n",
    "    arr[2:6]: Slices the array starting from index 2 up to, but not including, index 6."
   ]
  },
  {
   "cell_type": "raw",
   "id": "bb6326c2-8fc0-420d-81ae-12b90d1dd137",
   "metadata": {},
   "source": [
    "30.  Slice the 2D NumPy array to extract the sub-array [[2, 3], [5, 6]] from the given array.\n",
    "arr_2d = np.array([[1, 2, 3], ",
    "\n",
    "[4, 5, 6], ",
    "\n",
    "[7, 8, 9]])"
   ]
  },
  {
   "cell_type": "code",
   "execution_count": 32,
   "id": "2e43059e-d3f6-4689-a980-31f1d14f5cd8",
   "metadata": {},
   "outputs": [
    {
     "name": "stdout",
     "output_type": "stream",
     "text": [
      "Extracted sub-array:\n",
      " [[2 3]\n",
      " [5 6]]\n"
     ]
    }
   ],
   "source": [
    "import numpy as np\n",
    "\n",
    "# Given 2D NumPy array\n",
    "arr_2d = np.array([[1, 2, 3],\n",
    "                   [4, 5, 6],\n",
    "                   [7, 8, 9]])\n",
    "\n",
    "# Slice to extract the sub-array [[2, 3], [5, 6]]\n",
    "sub_array = arr_2d[0:2, 1:3]\n",
    "\n",
    "print(\"Extracted sub-array:\\n\", sub_array)\n"
   ]
  },
  {
   "cell_type": "markdown",
   "id": "838f93f2-3c8c-4338-8d1e-06e550bb0e0d",
   "metadata": {},
   "source": [
    "Explanation:\n",
    "\n",
    "    arr_2d[0:2, 1:3]:\n",
    "        0:2 specifies the rows from index 0 to 1 (excluding index 2).\n",
    "        1:3 specifies the columns from index 1 to 2 (excluding index 3)."
   ]
  },
  {
   "cell_type": "raw",
   "id": "3500198a-e912-4401-ba5d-cef8027843ad",
   "metadata": {},
   "source": [
    "31. .Write a NumPy function to extract elements in specific order from a given 2D array based on indices\n",
    "provided in another array."
   ]
  },
  {
   "cell_type": "code",
   "execution_count": 33,
   "id": "545aca0e-6e51-4fca-a838-5d99078ecc8e",
   "metadata": {},
   "outputs": [
    {
     "name": "stdout",
     "output_type": "stream",
     "text": [
      "Extracted elements: [20 60 70]\n"
     ]
    }
   ],
   "source": [
    "import numpy as np\n",
    "\n",
    "def extract_elements_from_indices(arr_2d, indices):\n",
    "    \"\"\"\n",
    "    Extract elements from a 2D NumPy array based on provided indices.\n",
    "\n",
    "    Parameters:\n",
    "    arr_2d (np.ndarray): The 2D NumPy array from which elements are to be extracted.\n",
    "    indices (np.ndarray): A 2D array of indices where each row specifies the (row, column) index of the element to extract.\n",
    "\n",
    "    Returns:\n",
    "    np.ndarray: Array of extracted elements based on the provided indices.\n",
    "    \"\"\"\n",
    "    # Convert indices to row and column indices\n",
    "    row_indices, col_indices = indices[:, 0], indices[:, 1]\n",
    "\n",
    "    # Use advanced indexing to extract elements\n",
    "    extracted_elements = arr_2d[row_indices, col_indices]\n",
    "    \n",
    "    return extracted_elements\n",
    "\n",
    "# Example usage:\n",
    "# Given 2D NumPy array\n",
    "arr_2d = np.array([[10, 20, 30],\n",
    "                   [40, 50, 60],\n",
    "                   [70, 80, 90]])\n",
    "\n",
    "# Array of indices where each row is a (row, column) pair\n",
    "indices = np.array([[0, 1],  # Element at (0, 1) -> 20\n",
    "                    [1, 2],  # Element at (1, 2) -> 60\n",
    "                    [2, 0]]) # Element at (2, 0) -> 70\n",
    "\n",
    "# Extract elements based on indices\n",
    "extracted_elements = extract_elements_from_indices(arr_2d, indices)\n",
    "\n",
    "print(\"Extracted elements:\", extracted_elements)\n"
   ]
  },
  {
   "cell_type": "markdown",
   "id": "1264800e-be6d-402e-a488-a228791f4cd7",
   "metadata": {},
   "source": [
    "Explanation:\n",
    "\n",
    "    indices[:, 0]: Extracts the row indices from the indices array.\n",
    "    indices[:, 1]: Extracts the column indices from the indices array.\n",
    "    arr_2d[row_indices, col_indices]: Uses advanced indexing to extract the elements specified by the row and column indices."
   ]
  },
  {
   "cell_type": "raw",
   "id": "ede2e041-33ba-4183-92a0-5e47e75a6698",
   "metadata": {},
   "source": [
    "32.. Create a NumPy function that filters elements greater than a threshold from a given 1D array using\n",
    "boolean indexing."
   ]
  },
  {
   "cell_type": "code",
   "execution_count": 34,
   "id": "52502076-a08f-416a-b71e-b43d91a4c65b",
   "metadata": {},
   "outputs": [
    {
     "name": "stdout",
     "output_type": "stream",
     "text": [
      "Elements greater than threshold: [ 8 12  7]\n"
     ]
    }
   ],
   "source": [
    "import numpy as np\n",
    "\n",
    "def filter_elements_greater_than_threshold(arr, threshold):\n",
    "    \"\"\"\n",
    "    Filter elements greater than a specified threshold from a 1D NumPy array.\n",
    "\n",
    "    Parameters:\n",
    "    arr (np.ndarray): The 1D NumPy array from which elements will be filtered.\n",
    "    threshold (float): The threshold value to compare against.\n",
    "\n",
    "    Returns:\n",
    "    np.ndarray: Array of elements greater than the specified threshold.\n",
    "    \"\"\"\n",
    "    # Create a boolean mask for elements greater than the threshold\n",
    "    mask = arr > threshold\n",
    "\n",
    "    # Use the mask to filter elements\n",
    "    filtered_elements = arr[mask]\n",
    "    \n",
    "    return filtered_elements\n",
    "\n",
    "# Example usage:\n",
    "# Given 1D NumPy array\n",
    "arr = np.array([1, 5, 8, 12, 3, 7])\n",
    "\n",
    "# Define the threshold\n",
    "threshold = 6\n",
    "\n",
    "# Filter elements greater than the threshold\n",
    "filtered_elements = filter_elements_greater_than_threshold(arr, threshold)\n",
    "\n",
    "print(\"Elements greater than threshold:\", filtered_elements)\n"
   ]
  },
  {
   "cell_type": "markdown",
   "id": "2478be29-df39-4b9a-a03d-0a5c0cdfb313",
   "metadata": {},
   "source": [
    "Explanation:\n",
    "\n",
    "    arr > threshold: Creates a boolean array where each position is True if the corresponding element in arr is greater than the threshold, and False otherwise.\n",
    "    arr[mask]: Uses the boolean mask to filter and return only the elements where the mask is True."
   ]
  },
  {
   "cell_type": "raw",
   "id": "c271f23f-b5aa-4c99-800e-d753b6041a1d",
   "metadata": {},
   "source": [
    "33.  Develop a NumPy function that extracts specific elements from a 3D array using indices provided in three\n",
    "separate arrays for each dimension."
   ]
  },
  {
   "cell_type": "code",
   "execution_count": 35,
   "id": "371eb02e-eafb-4115-bff3-e02989cb76f2",
   "metadata": {},
   "outputs": [
    {
     "ename": "SyntaxError",
     "evalue": "incomplete input (126152461.py, line 32)",
     "output_type": "error",
     "traceback": [
      "\u001b[0;36m  Cell \u001b[0;32mIn[35], line 32\u001b[0;36m\u001b[0m\n\u001b[0;31m    \u001b[0m\n\u001b[0m    ^\u001b[0m\n\u001b[0;31mSyntaxError\u001b[0m\u001b[0;31m:\u001b[0m incomplete input\n"
     ]
    }
   ],
   "source": [
    "import numpy as np\n",
    "\n",
    "def extract_elements_from_3d_array(arr_3d, row_indices, col_indices, depth_indices):\n",
    "    \"\"\"\n",
    "    Extract specific elements from a 3D NumPy array using indices provided for each dimension.\n",
    "\n",
    "    Parameters:\n",
    "    arr_3d (np.ndarray): The 3D NumPy array from which elements are to be extracted.\n",
    "    row_indices (np.ndarray): Array of row indices.\n",
    "    col_indices (np.ndarray): Array of column indices.\n",
    "    depth_indices (np.ndarray): Array of depth indices.\n",
    "\n",
    "    Returns:\n",
    "    np.ndarray: Array of extracted elements based on the provided indices.\n",
    "    \"\"\"\n",
    "    # Use advanced indexing to extract elements\n",
    "    extracted_elements = arr_3d[row_indices, col_indices, depth_indices]\n",
    "    \n",
    "    return extracted_elements\n",
    "\n",
    "# Example usage:\n",
    "# Given 3D NumPy array\n",
    "arr_3d = np.array([[[1, 2, 3],\n",
    "                    [4, 5, 6],\n",
    "                    [7, 8, 9]],\n",
    "                   \n",
    "                   [[10, 11, 12],\n",
    "                    [13, 14, 15],\n",
    "                    [16, 17, 18]],\n",
    "                   \n",
    "                   [[19, 20, 21],\n",
    "    \n"
   ]
  },
  {
   "cell_type": "markdown",
   "id": "392d9089-a366-4cf9-a5eb-e57fca9e4848",
   "metadata": {},
   "source": [
    "Explanation:\n",
    "\n",
    "    row_indices, col_indices, depth_indices: These arrays specify the indices in the first, second, and third dimensions of the 3D array, respectively.\n",
    "    arr_3d[row_indices, col_indices, depth_indices]: Uses advanced indexing to extract elements from the 3D array based on the provided indices."
   ]
  },
  {
   "cell_type": "raw",
   "id": "72b9d0b1-0334-4b50-9197-dac241016a34",
   "metadata": {},
   "source": [
    "34.  Write a NumPy function that returns elements from an array where both two conditions are satisfied\n",
    "using boolean indexing."
   ]
  },
  {
   "cell_type": "code",
   "execution_count": 36,
   "id": "949dea0f-3362-4ea4-8623-18eaf058433a",
   "metadata": {},
   "outputs": [
    {
     "name": "stdout",
     "output_type": "stream",
     "text": [
      "Elements satisfying both conditions: [5 8 7]\n"
     ]
    }
   ],
   "source": [
    "import numpy as np\n",
    "\n",
    "def filter_elements_with_conditions(arr, condition1, condition2):\n",
    "    \"\"\"\n",
    "    Return elements from an array where both conditions are satisfied using boolean indexing.\n",
    "\n",
    "    Parameters:\n",
    "    arr (np.ndarray): The NumPy array to filter.\n",
    "    condition1 (np.ndarray): A boolean array representing the first condition.\n",
    "    condition2 (np.ndarray): A boolean array representing the second condition.\n",
    "\n",
    "    Returns:\n",
    "    np.ndarray: Array of elements where both conditions are satisfied.\n",
    "    \"\"\"\n",
    "    # Ensure both conditions are boolean arrays of the same shape\n",
    "    if not (arr.shape == condition1.shape == condition2.shape):\n",
    "        raise ValueError(\"Shape of conditions must match the shape of the array\")\n",
    "    \n",
    "    # Combine the conditions using logical AND\n",
    "    combined_condition = condition1 & condition2\n",
    "\n",
    "    # Filter elements based on the combined condition\n",
    "    filtered_elements = arr[combined_condition]\n",
    "    \n",
    "    return filtered_elements\n",
    "\n",
    "# Example usage:\n",
    "# Given NumPy array\n",
    "arr = np.array([1, 5, 8, 12, 3, 7])\n",
    "\n",
    "# Define two conditions\n",
    "condition1 = arr > 4   # Condition: elements greater than 4\n",
    "condition2 = arr < 10  # Condition: elements less than 10\n",
    "\n",
    "# Get elements where both conditions are satisfied\n",
    "filtered_elements = filter_elements_with_conditions(arr, condition1, condition2)\n",
    "\n",
    "print(\"Elements satisfying both conditions:\", filtered_elements)\n"
   ]
  },
  {
   "cell_type": "markdown",
   "id": "78ecf620-2cfc-4e74-a1d8-724ffd9d53c5",
   "metadata": {},
   "source": [
    "Explanation:\n",
    "\n",
    "    condition1 and condition2: Boolean arrays that represent the conditions to be satisfied.\n",
    "    condition1 & condition2: Combines the two conditions using the logical AND operator. This results in a boolean array where an element is True if both conditions are True.\n",
    "    arr[combined_condition]: Filters the original array to include only those elements where the combined condition is True."
   ]
  },
  {
   "cell_type": "raw",
   "id": "02388a2d-8b4d-4175-a188-de7aa7696d6b",
   "metadata": {},
   "source": [
    "35. Create a NumPy function that extracts elements from a 2D array using row and column indices provided\n",
    "in separate arrays"
   ]
  },
  {
   "cell_type": "code",
   "execution_count": 37,
   "id": "156aea08-f172-46d3-9303-1c27d08f00ce",
   "metadata": {},
   "outputs": [
    {
     "name": "stdout",
     "output_type": "stream",
     "text": [
      "Extracted elements: [30 50 70]\n"
     ]
    }
   ],
   "source": [
    "import numpy as np\n",
    "\n",
    "def extract_elements_from_2d_array(arr_2d, row_indices, col_indices):\n",
    "    \"\"\"\n",
    "    Extract elements from a 2D NumPy array using row and column indices provided in separate arrays.\n",
    "\n",
    "    Parameters:\n",
    "    arr_2d (np.ndarray): The 2D NumPy array from which elements are to be extracted.\n",
    "    row_indices (np.ndarray): Array of row indices.\n",
    "    col_indices (np.ndarray): Array of column indices.\n",
    "\n",
    "    Returns:\n",
    "    np.ndarray: Array of extracted elements based on the provided indices.\n",
    "    \"\"\"\n",
    "    # Ensure row_indices and col_indices have the same length\n",
    "    if len(row_indices) != len(col_indices):\n",
    "        raise ValueError(\"Length of row_indices and col_indices must be the same\")\n",
    "\n",
    "    # Use advanced indexing to extract elements\n",
    "    extracted_elements = arr_2d[row_indices, col_indices]\n",
    "    \n",
    "    return extracted_elements\n",
    "\n",
    "# Example usage:\n",
    "# Given 2D NumPy array\n",
    "arr_2d = np.array([[10, 20, 30],\n",
    "                   [40, 50, 60],\n",
    "                   [70, 80, 90]])\n",
    "\n",
    "# Arrays of row and column indices\n",
    "row_indices = np.array([0, 1, 2])\n",
    "col_indices = np.array([2, 1, 0])\n",
    "\n",
    "# Extract elements based on indices\n",
    "extracted_elements = extract_elements_from_2d_array(arr_2d, row_indices, col_indices)\n",
    "\n",
    "print(\"Extracted elements:\", extracted_elements)\n"
   ]
  },
  {
   "cell_type": "markdown",
   "id": "1072071f-b504-405c-8de1-ef476f6f9bd5",
   "metadata": {},
   "source": [
    "Explanation:\n",
    "\n",
    "    row_indices: Array specifying which rows to access.\n",
    "    col_indices: Array specifying which columns to access.\n",
    "    arr_2d[row_indices, col_indices]: Uses advanced indexing to extract elements from the 2D array based on the provided row and column indices."
   ]
  },
  {
   "cell_type": "raw",
   "id": "8bd6923d-f754-41cf-8679-924bb1e714e0",
   "metadata": {},
   "source": [
    "36. Given an array arr of shape (3, 3), add a scalar value of 5 to each element using NumPy broadcasting."
   ]
  },
  {
   "cell_type": "code",
   "execution_count": 38,
   "id": "64b30f65-b20f-4ff2-974a-24677944aeae",
   "metadata": {},
   "outputs": [
    {
     "name": "stdout",
     "output_type": "stream",
     "text": [
      "Original array:\n",
      " [[1 2 3]\n",
      " [4 5 6]\n",
      " [7 8 9]]\n",
      "Array after adding scalar value of 5:\n",
      " [[ 6  7  8]\n",
      " [ 9 10 11]\n",
      " [12 13 14]]\n"
     ]
    }
   ],
   "source": [
    "import numpy as np\n",
    "\n",
    "# Given NumPy array of shape (3, 3)\n",
    "arr = np.array([[1, 2, 3],\n",
    "                [4, 5, 6],\n",
    "                [7, 8, 9]])\n",
    "\n",
    "# Scalar value to add\n",
    "scalar_value = 5\n",
    "\n",
    "# Add scalar value to each element of the array\n",
    "result = arr + scalar_value\n",
    "\n",
    "print(\"Original array:\\n\", arr)\n",
    "print(\"Array after adding scalar value of 5:\\n\", result)\n"
   ]
  },
  {
   "cell_type": "markdown",
   "id": "131e6b79-1ff1-445e-821f-8cfcbe2daf96",
   "metadata": {},
   "source": [
    "Explanation:\n",
    "\n",
    "    arr + scalar_value: This operation uses broadcasting to add the scalar value 5 to each element of the array. NumPy automatically applies the scalar addition to each element in the array."
   ]
  },
  {
   "cell_type": "raw",
   "id": "de07af78-aee8-432d-944b-836f483a3897",
   "metadata": {},
   "source": [
    "37.  Consider two arrays arr1 of shape (1, 3) and arr2 of shape (3, 4). Multiply each row of arr2 by the\n",
    "corresponding element in arr1 using NumPy broadcasting"
   ]
  },
  {
   "cell_type": "code",
   "execution_count": 39,
   "id": "80f054f6-ce2f-4caf-851e-3381b437907a",
   "metadata": {},
   "outputs": [
    {
     "ename": "ValueError",
     "evalue": "operands could not be broadcast together with shapes (3,4) (1,3) ",
     "output_type": "error",
     "traceback": [
      "\u001b[0;31m---------------------------------------------------------------------------\u001b[0m",
      "\u001b[0;31mValueError\u001b[0m                                Traceback (most recent call last)",
      "Cell \u001b[0;32mIn[39], line 10\u001b[0m\n\u001b[1;32m      5\u001b[0m arr2 \u001b[38;5;241m=\u001b[39m np\u001b[38;5;241m.\u001b[39marray([[\u001b[38;5;241m1\u001b[39m, \u001b[38;5;241m2\u001b[39m, \u001b[38;5;241m3\u001b[39m, \u001b[38;5;241m4\u001b[39m],\n\u001b[1;32m      6\u001b[0m                  [\u001b[38;5;241m5\u001b[39m, \u001b[38;5;241m6\u001b[39m, \u001b[38;5;241m7\u001b[39m, \u001b[38;5;241m8\u001b[39m],\n\u001b[1;32m      7\u001b[0m                  [\u001b[38;5;241m9\u001b[39m, \u001b[38;5;241m10\u001b[39m, \u001b[38;5;241m11\u001b[39m, \u001b[38;5;241m12\u001b[39m]])  \u001b[38;5;66;03m# Shape (3, 4)\u001b[39;00m\n\u001b[1;32m      9\u001b[0m \u001b[38;5;66;03m# Multiply each row of arr2 by the corresponding element in arr1\u001b[39;00m\n\u001b[0;32m---> 10\u001b[0m result \u001b[38;5;241m=\u001b[39m \u001b[43marr2\u001b[49m\u001b[43m \u001b[49m\u001b[38;5;241;43m*\u001b[39;49m\u001b[43m \u001b[49m\u001b[43marr1\u001b[49m\n\u001b[1;32m     12\u001b[0m \u001b[38;5;28mprint\u001b[39m(\u001b[38;5;124m\"\u001b[39m\u001b[38;5;124marr1:\u001b[39m\u001b[38;5;130;01m\\n\u001b[39;00m\u001b[38;5;124m\"\u001b[39m, arr1)\n\u001b[1;32m     13\u001b[0m \u001b[38;5;28mprint\u001b[39m(\u001b[38;5;124m\"\u001b[39m\u001b[38;5;124marr2:\u001b[39m\u001b[38;5;130;01m\\n\u001b[39;00m\u001b[38;5;124m\"\u001b[39m, arr2)\n",
      "\u001b[0;31mValueError\u001b[0m: operands could not be broadcast together with shapes (3,4) (1,3) "
     ]
    }
   ],
   "source": [
    "import numpy as np\n",
    "\n",
    "# Given arrays\n",
    "arr1 = np.array([[2, 3, 4]])  # Shape (1, 3)\n",
    "arr2 = np.array([[1, 2, 3, 4],\n",
    "                 [5, 6, 7, 8],\n",
    "                 [9, 10, 11, 12]])  # Shape (3, 4)\n",
    "\n",
    "# Multiply each row of arr2 by the corresponding element in arr1\n",
    "result = arr2 * arr1\n",
    "\n",
    "print(\"arr1:\\n\", arr1)\n",
    "print(\"arr2:\\n\", arr2)\n",
    "print(\"Result of multiplication:\\n\", result)\n"
   ]
  },
  {
   "cell_type": "markdown",
   "id": "96c2b825-fe16-438b-97cc-cf0b051c30e1",
   "metadata": {},
   "source": [
    "Explanation:\n",
    "\n",
    "    arr2 * arr1: NumPy broadcasting automatically aligns the shapes of the two arrays. Since arr1 has shape (1, 3) and arr2 has shape (3, 4), broadcasting will stretch arr1 along the rows of arr2 to match the shape (3, 4). Each element of arr1 will be multiplied with the corresponding row of arr2."
   ]
  },
  {
   "cell_type": "raw",
   "id": "6446ca82-6111-4ef6-ace0-0a36b3c5f166",
   "metadata": {},
   "source": [
    "38. Given a 1D array arr1 of shape (1, 4) and a 2D array arr2 of shape (4, 3), add arr1 to each row of arr2 using\n",
    "NumPy broadcasting."
   ]
  },
  {
   "cell_type": "code",
   "execution_count": 40,
   "id": "f3c77645-6821-4ef3-a83e-a1a5cfff97b2",
   "metadata": {},
   "outputs": [
    {
     "name": "stdout",
     "output_type": "stream",
     "text": [
      "arr1:\n",
      " [[1 2 3 4]]\n",
      "arr2:\n",
      " [[ 10  20  30]\n",
      " [ 40  50  60]\n",
      " [ 70  80  90]\n",
      " [100 110 120]]\n",
      "Result of addition:\n",
      " [[ 11  22  33]\n",
      " [ 41  52  63]\n",
      " [ 71  82  93]\n",
      " [101 112 123]]\n"
     ]
    }
   ],
   "source": [
    "import numpy as np\n",
    "\n",
    "# Given arrays\n",
    "arr1 = np.array([[1, 2, 3, 4]])  # Shape (1, 4)\n",
    "arr2 = np.array([[10, 20, 30],\n",
    "                 [40, 50, 60],\n",
    "                 [70, 80, 90],\n",
    "                 [100, 110, 120]])  # Shape (4, 3)\n",
    "\n",
    "# To add arr1 to each row of arr2, arr1 should be reshaped to match arr2's shape\n",
    "# Reshape arr1 to (4, 4) by broadcasting\n",
    "arr1_broadcasted = np.tile(arr1, (arr2.shape[0], 1))\n",
    "\n",
    "# Add the reshaped arr1 to each row of arr2\n",
    "result = arr2 + arr1_broadcasted[:, :arr2.shape[1]]\n",
    "\n",
    "print(\"arr1:\\n\", arr1)\n",
    "print(\"arr2:\\n\", arr2)\n",
    "print(\"Result of addition:\\n\", result)\n"
   ]
  },
  {
   "cell_type": "markdown",
   "id": "0045f36b-0414-47a3-8a77-3527db645fa0",
   "metadata": {},
   "source": [
    "Explanation:\n",
    "\n",
    "    arr1_broadcasted: np.tile(arr1, (arr2.shape[0], 1)) replicates arr1 to match the number of rows in arr2. This reshaping allows element-wise addition with each row of arr2.\n",
    "    arr1_broadcasted[:, :arr2.shape[1]]: Selects the first three columns of the broadcasted arr1 to match the shape of arr2."
   ]
  },
  {
   "cell_type": "raw",
   "id": "4d5b8d48-3686-45d9-b0e6-c7cd70457a04",
   "metadata": {},
   "source": [
    "39.  Consider two arrays arr1 of shape (3, 1) and arr2 of shape (1, 3). Add these arrays using NumPy\n",
    "broadcasting."
   ]
  },
  {
   "cell_type": "code",
   "execution_count": 41,
   "id": "0e3fe284-8364-4a57-9081-bcc151054d9f",
   "metadata": {},
   "outputs": [
    {
     "name": "stdout",
     "output_type": "stream",
     "text": [
      "arr1:\n",
      " [[1]\n",
      " [2]\n",
      " [3]]\n",
      "arr2:\n",
      " [[10 20 30]]\n",
      "Result of addition:\n",
      " [[11 21 31]\n",
      " [12 22 32]\n",
      " [13 23 33]]\n"
     ]
    }
   ],
   "source": [
    "import numpy as np\n",
    "\n",
    "# Given arrays\n",
    "arr1 = np.array([[1], [2], [3]])  # Shape (3, 1)\n",
    "arr2 = np.array([[10, 20, 30]])    # Shape (1, 3)\n",
    "\n",
    "# Add the arrays using broadcasting\n",
    "result = arr1 + arr2\n",
    "\n",
    "print(\"arr1:\\n\", arr1)\n",
    "print(\"arr2:\\n\", arr2)\n",
    "print(\"Result of addition:\\n\", result)\n"
   ]
  },
  {
   "cell_type": "markdown",
   "id": "880a40f6-41cc-47be-8992-26086e9b740a",
   "metadata": {},
   "source": [
    "Explanation:\n",
    "\n",
    "    arr1 has shape (3, 1), meaning it has 3 rows and 1 column.\n",
    "    arr2 has shape (1, 3), meaning it has 1 row and 3 columns.\n",
    "    When you add arr1 and arr2, NumPy broadcasts arr1 across the columns and arr2 across the rows to produce a result with shape (3, 3)."
   ]
  },
  {
   "cell_type": "raw",
   "id": "1bdfcfb3-0935-4f92-9c62-cd1494c18de0",
   "metadata": {},
   "source": [
    "40. Given arrays arr1 of shape (2, 3) and arr2 of shape (2, 2), perform multiplication using NumPy\n",
    "broadcasting. Handle the shape incompatibility."
   ]
  },
  {
   "cell_type": "code",
   "execution_count": 42,
   "id": "789492b5-045d-4936-9cd8-f0ebd2ecf454",
   "metadata": {},
   "outputs": [
    {
     "name": "stdout",
     "output_type": "stream",
     "text": [
      "arr1:\n",
      " [[1 2 3]\n",
      " [4 5 6]]\n",
      "arr2:\n",
      " [[10 20]\n",
      " [30 40]]\n",
      "Result of multiplication:\n",
      " [[[ 10  20]\n",
      "  [ 20  40]\n",
      "  [ 30  60]]\n",
      "\n",
      " [[120 160]\n",
      "  [150 200]\n",
      "  [180 240]]]\n"
     ]
    }
   ],
   "source": [
    "import numpy as np\n",
    "\n",
    "# Given arrays\n",
    "arr1 = np.array([[1, 2, 3],\n",
    "                 [4, 5, 6]])  # Shape (2, 3)\n",
    "\n",
    "arr2 = np.array([[10, 20],\n",
    "                 [30, 40]])  # Shape (2, 2)\n",
    "\n",
    "# Adjust arr2 to have the same shape as arr1\n",
    "# This involves broadcasting arr2 to match arr1's shape\n",
    "# Reshape arr2 to (2, 1, 2) and then broadcast\n",
    "arr2_reshaped = arr2[:, np.newaxis, :]  # Shape (2, 1, 2)\n",
    "\n",
    "# Broadcast arr2_reshaped to match arr1's shape\n",
    "arr2_broadcasted = np.broadcast_to(arr2_reshaped, (2, 3, 2))  # Shape (2, 3, 2)\n",
    "\n",
    "# Perform multiplication\n",
    "# We need to align arr1 with arr2_broadcasted to match dimensions for multiplication\n",
    "result = arr1[:, :, np.newaxis] * arr2_broadcasted  # Shape (2, 3, 2)\n",
    "\n",
    "print(\"arr1:\\n\", arr1)\n",
    "print(\"arr2:\\n\", arr2)\n",
    "print(\"Result of multiplication:\\n\", result)\n"
   ]
  },
  {
   "cell_type": "markdown",
   "id": "ada674bd-4b18-4e24-93e7-896407429f93",
   "metadata": {},
   "source": [
    "Explanation:\n",
    "\n",
    "    Reshape arr2: arr2 is reshaped to (2, 1, 2) to make it compatible with broadcasting. The np.newaxis adds a new dimension for alignment.\n",
    "    Broadcast arr2: arr2_reshaped is broadcasted to the shape (2, 3, 2) to match arr1’s shape (2, 3).\n",
    "    Multiply: Multiply arr1 with the broadcasted arr2."
   ]
  },
  {
   "cell_type": "raw",
   "id": "ed5bfbcb-6c87-4db1-aad7-c39396c7e3d4",
   "metadata": {},
   "source": [
    "40. Calculate column-wise mean for the given array\n",
    "arr = np.array([[1, 2, 3], [4, 5, 6]])"
   ]
  },
  {
   "cell_type": "code",
   "execution_count": 44,
   "id": "de4d97f3-17ee-4a64-bb25-5b0570db5a5e",
   "metadata": {},
   "outputs": [
    {
     "name": "stdout",
     "output_type": "stream",
     "text": [
      "Original array:\n",
      " [[1 2 3]\n",
      " [4 5 6]]\n",
      "Column-wise mean: [2.5 3.5 4.5]\n"
     ]
    }
   ],
   "source": [
    "import numpy as np\n",
    "\n",
    "# Given 2D NumPy array\n",
    "arr = np.array([[1, 2, 3],\n",
    "                [4, 5, 6]])\n",
    "\n",
    "# Calculate the column-wise mean\n",
    "column_wise_mean = np.mean(arr, axis=0)\n",
    "\n",
    "print(\"Original array:\\n\", arr)\n",
    "print(\"Column-wise mean:\", column_wise_mean)\n"
   ]
  },
  {
   "cell_type": "markdown",
   "id": "d69a0c35-bc95-4dbb-80b4-a25e77e1a00a",
   "metadata": {},
   "source": [
    "Explanation:\n",
    "\n",
    "    np.mean(arr, axis=0): Calculates the mean along the columns (i.e., computes the mean for each column)."
   ]
  },
  {
   "cell_type": "raw",
   "id": "b127aa69-a513-481c-8e70-7a4a295f244d",
   "metadata": {},
   "source": [
    "42.Find maximum value in each row of the given array\n",
    "arr = np.array([[1, 2, 3], [4, 5, 6]])"
   ]
  },
  {
   "cell_type": "code",
   "execution_count": 45,
   "id": "dcfa12cd-5f1e-4613-b814-142456686143",
   "metadata": {},
   "outputs": [
    {
     "name": "stdout",
     "output_type": "stream",
     "text": [
      "Original array:\n",
      " [[1 2 3]\n",
      " [4 5 6]]\n",
      "Maximum values in each row: [3 6]\n"
     ]
    }
   ],
   "source": [
    "import numpy as np\n",
    "\n",
    "# Given 2D NumPy array\n",
    "arr = np.array([[1, 2, 3],\n",
    "                [4, 5, 6]])\n",
    "\n",
    "# Find the maximum value in each row\n",
    "max_values_per_row = np.amax(arr, axis=1)\n",
    "\n",
    "print(\"Original array:\\n\", arr)\n",
    "print(\"Maximum values in each row:\", max_values_per_row)\n"
   ]
  },
  {
   "cell_type": "markdown",
   "id": "22dff197-8b1a-4086-ad06-63310b0a81b7",
   "metadata": {},
   "source": [
    "Explanation:\n",
    "\n",
    "    np.amax(arr, axis=1): Computes the maximum value along the specified axis. Here, axis=1 refers to the row axis, so it finds the maximum value in each row."
   ]
  },
  {
   "cell_type": "raw",
   "id": "b96e2bc9-fe41-42d1-bcdc-a4a36d4b06e8",
   "metadata": {},
   "source": [
    "43.  For the given array, find indices of maximum value in each column\n",
    "arr = np.array([[1, 2, 3], [4, 5, 6]])"
   ]
  },
  {
   "cell_type": "code",
   "execution_count": 46,
   "id": "c7198ac3-0d26-469f-bc5c-0f1f469f26b0",
   "metadata": {},
   "outputs": [
    {
     "name": "stdout",
     "output_type": "stream",
     "text": [
      "Original array:\n",
      " [[1 2 3]\n",
      " [4 5 6]]\n",
      "Indices of maximum values in each column: [1 1 1]\n"
     ]
    }
   ],
   "source": [
    "import numpy as np\n",
    "\n",
    "# Given 2D NumPy array\n",
    "arr = np.array([[1, 2, 3],\n",
    "                [4, 5, 6]])\n",
    "\n",
    "# Find the indices of maximum values in each column\n",
    "indices_of_max_per_column = np.argmax(arr, axis=0)\n",
    "\n",
    "print(\"Original array:\\n\", arr)\n",
    "print(\"Indices of maximum values in each column:\", indices_of_max_per_column)\n"
   ]
  },
  {
   "cell_type": "markdown",
   "id": "179143af-00db-48b8-a21e-d58ce54c313b",
   "metadata": {},
   "source": [
    "Explanation:\n",
    "\n",
    "    np.argmax(arr, axis=0): Finds the indices of the maximum values along the specified axis. Here, axis=0 refers to the column axis, so it returns the indices of the maximum values in each column."
   ]
  },
  {
   "cell_type": "raw",
   "id": "c1e07970-c0c9-4172-9b8d-ed39d750b3b2",
   "metadata": {},
   "source": [
    "44. For the given array, apply custom function to calculate moving sum along rows\n",
    "arr = np.array([[1, 2, 3], [4, 5, 6]])"
   ]
  },
  {
   "cell_type": "code",
   "execution_count": 47,
   "id": "09f33109-6966-41e2-987e-aa65d700fe3a",
   "metadata": {},
   "outputs": [
    {
     "name": "stdout",
     "output_type": "stream",
     "text": [
      "Original array:\n",
      " [[1 2 3]\n",
      " [4 5 6]]\n",
      "Moving sum with window size 2 :\n",
      " [[ 3.  5.]\n",
      " [ 9. 11.]]\n"
     ]
    }
   ],
   "source": [
    "import numpy as np\n",
    "\n",
    "def moving_sum(arr, window_size):\n",
    "    \"\"\"\n",
    "    Calculate the moving sum along rows of a 2D NumPy array.\n",
    "    \n",
    "    Parameters:\n",
    "    arr (np.ndarray): Input 2D array.\n",
    "    window_size (int): Size of the moving window.\n",
    "    \n",
    "    Returns:\n",
    "    np.ndarray: Array with moving sums along rows.\n",
    "    \"\"\"\n",
    "    # Number of rows and columns in the input array\n",
    "    num_rows, num_cols = arr.shape\n",
    "    \n",
    "    # Initialize the result array\n",
    "    result = np.zeros((num_rows, num_cols - window_size + 1))\n",
    "    \n",
    "    # Calculate the moving sum for each row\n",
    "    for i in range(num_rows):\n",
    "        for j in range(num_cols - window_size + 1):\n",
    "            result[i, j] = np.sum(arr[i, j:j + window_size])\n",
    "    \n",
    "    return result\n",
    "\n",
    "# Given array\n",
    "arr = np.array([[1, 2, 3], [4, 5, 6]])\n",
    "\n",
    "# Define the window size\n",
    "window_size = 2\n",
    "\n",
    "# Calculate the moving sum along rows\n",
    "moving_sum_result = moving_sum(arr, window_size)\n",
    "\n",
    "print(\"Original array:\\n\", arr)\n",
    "print(\"Moving sum with window size\", window_size, \":\\n\", moving_sum_result)\n"
   ]
  },
  {
   "cell_type": "markdown",
   "id": "8f17cc6c-93af-4c46-8e32-2c18fb0356b4",
   "metadata": {},
   "source": [
    "Explanation:\n",
    "\n",
    "    window_size: The number of elements to include in each moving sum window.\n",
    "    Loop through rows: Iterate over each row of the array.\n",
    "    Calculate moving sum: For each position in the row, compute the sum of elements within the window size and store it in the result array."
   ]
  },
  {
   "cell_type": "raw",
   "id": "28838cad-0557-4fe1-9501-33acbf96ad68",
   "metadata": {},
   "source": [
    "45.  In the given array, check if all elements in each column are even.\n",
    "arr = np.array([[2, 4, 6], [3, 5, 7]])"
   ]
  },
  {
   "cell_type": "code",
   "execution_count": 48,
   "id": "d3126675-89b5-45a6-a34a-81e96a045201",
   "metadata": {},
   "outputs": [
    {
     "name": "stdout",
     "output_type": "stream",
     "text": [
      "Original array:\n",
      " [[2 4 6]\n",
      " [3 5 7]]\n",
      "Array of boolean values indicating evenness:\n",
      " [[ True  True  True]\n",
      " [False False False]]\n",
      "Are all elements in each column even? [False False False]\n"
     ]
    }
   ],
   "source": [
    "import numpy as np\n",
    "\n",
    "# Given array\n",
    "arr = np.array([[2, 4, 6],\n",
    "                [3, 5, 7]])\n",
    "\n",
    "# Check if each element is even\n",
    "is_even = arr % 2 == 0\n",
    "\n",
    "# Check if all elements in each column are even\n",
    "all_even_per_column = np.all(is_even, axis=0)\n",
    "\n",
    "print(\"Original array:\\n\", arr)\n",
    "print(\"Array of boolean values indicating evenness:\\n\", is_even)\n",
    "print(\"Are all elements in each column even?\", all_even_per_column)\n"
   ]
  },
  {
   "cell_type": "markdown",
   "id": "257c110c-cc61-4c60-8fca-5a7bc3b898fb",
   "metadata": {},
   "source": [
    "Explanation:\n",
    "\n",
    "    arr % 2 == 0: This creates a boolean array where True indicates the corresponding element is even, and False otherwise.\n",
    "    np.all(is_even, axis=0): Checks if all elements along each column (axis=0) are True (i.e., all elements in that column are even)."
   ]
  },
  {
   "cell_type": "raw",
   "id": "8d245a35-d34d-4b41-b965-e2186f03aa2f",
   "metadata": {},
   "source": [
    "46. Given a NumPy array arr, reshape it into a matrix of dimensions m rows and n columns. Return the\n",
    "reshaped matrix.\n",
    "original_array = np.array([1, 2, 3, 4, 5, 6])"
   ]
  },
  {
   "cell_type": "code",
   "execution_count": 49,
   "id": "194a9103-5be8-402a-964f-5faead5ab66c",
   "metadata": {},
   "outputs": [
    {
     "name": "stdout",
     "output_type": "stream",
     "text": [
      "Original array:\n",
      " [1 2 3 4 5 6]\n",
      "Reshaped matrix:\n",
      " [[1 2 3]\n",
      " [4 5 6]]\n"
     ]
    }
   ],
   "source": [
    "import numpy as np\n",
    "\n",
    "def reshape_array(arr, m, n):\n",
    "    \"\"\"\n",
    "    Reshape the given NumPy array into a matrix with dimensions (m, n).\n",
    "    \n",
    "    Parameters:\n",
    "    arr (np.ndarray): Input 1D NumPy array.\n",
    "    m (int): Number of rows in the reshaped matrix.\n",
    "    n (int): Number of columns in the reshaped matrix.\n",
    "    \n",
    "    Returns:\n",
    "    np.ndarray: Reshaped matrix of shape (m, n).\n",
    "    \"\"\"\n",
    "    # Check if the reshape is possible\n",
    "    if arr.size != m * n:\n",
    "        raise ValueError(\"The total number of elements does not match the dimensions m x n.\")\n",
    "    \n",
    "    # Reshape the array\n",
    "    reshaped_matrix = arr.reshape((m, n))\n",
    "    return reshaped_matrix\n",
    "\n",
    "# Given array\n",
    "original_array = np.array([1, 2, 3, 4, 5, 6])\n",
    "\n",
    "# Define new dimensions\n",
    "m = 2\n",
    "n = 3\n",
    "\n",
    "# Reshape the array\n",
    "reshaped_matrix = reshape_array(original_array, m, n)\n",
    "\n",
    "print(\"Original array:\\n\", original_array)\n",
    "print(\"Reshaped matrix:\\n\", reshaped_matrix)\n"
   ]
  },
  {
   "cell_type": "markdown",
   "id": "da2ec4df-3fc7-4213-bd27-9b56722e4e58",
   "metadata": {},
   "source": [
    "Explanation:\n",
    "\n",
    "    arr.reshape((m, n)): Reshapes the array into a matrix with m rows and n columns.\n",
    "    Error Handling: Ensures the reshape is valid by checking if the total number of elements in the original array matches m * n."
   ]
  },
  {
   "cell_type": "raw",
   "id": "ea60fe44-8b70-41a1-9a84-140e05ca8550",
   "metadata": {},
   "source": [
    "47. Create a function that takes a matrix as input and returns the flattened array.\n",
    "input_matrix = np.array([[1, 2, 3], [4, 5, 6]])"
   ]
  },
  {
   "cell_type": "code",
   "execution_count": null,
   "id": "b6d9ce61-295a-4f62-a1c6-59d621fa8807",
   "metadata": {},
   "outputs": [
    {
     "name": "stdout",
     "output_type": "stream",
     "text": [
      "Input matrix:\n",
      " [[1 2 3]\n",
      " [4 5 6]]\n",
      "Flattened array:\n",
      " [1 2 3 4 5 6]\n"
     ]
    }
   ],
   "source": [
    "import numpy as np\n",
    "\n",
    "def flatten_matrix(matrix):\n",
    "    \"\"\"\n",
    "    Flatten the given 2D NumPy matrix into a 1D array.\n",
    "    \n",
    "    Parameters:\n",
    "    matrix (np.ndarray): Input 2D NumPy array (matrix).\n",
    "    \n",
    "    Returns:\n",
    "    np.ndarray: Flattened 1D array.\n",
    "    \"\"\"\n",
    "    # Flatten the matrix using numpy.flatten()\n",
    "    flattened_array = matrix.flatten()\n",
    "    return flattened_array\n",
    "\n",
    "# Given matrix\n",
    "input_matrix = np.array([[1, 2, 3],\n",
    "                         [4, 5, 6]])\n",
    "\n",
    "# Flatten the matrix\n",
    "flattened_array = flatten_matrix(input_matrix)\n",
    "\n",
    "print(\"Input matrix:\\n\", input_matrix)\n",
    "print(\"Flattened array:\\n\", flattened_array)\n"
   ]
  },
  {
   "cell_type": "markdown",
   "id": "7098e97e-28df-4cee-b047-d091b801177c",
   "metadata": {},
   "source": [
    "Explanation:\n",
    "\n",
    "    matrix.flatten(): Converts the 2D matrix into a 1D array by stacking all elements into a single line.\n",
    "    numpy.ravel(): Can also be used if you prefer a view of the original data rather than a copy."
   ]
  },
  {
   "cell_type": "raw",
   "id": "0c491b1e-a141-47b6-ba47-fddf0b7b9bfa",
   "metadata": {},
   "source": [
    "48. . Write a function that concatenates two given arrays along a specified axis\n",
    "array1 = np.array([[1, 2], [3, 4]]) ",
    "\n",
    "array2 = np.array([[5, 6], [7, 8]])"
   ]
  },
  {
   "cell_type": "code",
   "execution_count": 51,
   "id": "06c13052-f375-4efd-b5f5-7c65de4caaf7",
   "metadata": {},
   "outputs": [
    {
     "name": "stdout",
     "output_type": "stream",
     "text": [
      "Array1:\n",
      " [[1 2]\n",
      " [3 4]]\n",
      "Array2:\n",
      " [[5 6]\n",
      " [7 8]]\n",
      "Concatenated along axis 0:\n",
      " [[1 2]\n",
      " [3 4]\n",
      " [5 6]\n",
      " [7 8]]\n",
      "Concatenated along axis 1:\n",
      " [[1 2 5 6]\n",
      " [3 4 7 8]]\n"
     ]
    }
   ],
   "source": [
    "import numpy as np\n",
    "\n",
    "def concatenate_arrays(array1, array2, axis):\n",
    "    \"\"\"\n",
    "    Concatenate two NumPy arrays along a specified axis.\n",
    "    \n",
    "    Parameters:\n",
    "    array1 (np.ndarray): The first array to concatenate.\n",
    "    array2 (np.ndarray): The second array to concatenate.\n",
    "    axis (int): The axis along which to concatenate the arrays.\n",
    "    \n",
    "    Returns:\n",
    "    np.ndarray: The concatenated array.\n",
    "    \"\"\"\n",
    "    # Check if the arrays can be concatenated along the specified axis\n",
    "    if array1.shape[axis] != array2.shape[axis]:\n",
    "        raise ValueError(\"The arrays have mismatched shapes along the specified axis.\")\n",
    "    \n",
    "    # Concatenate the arrays\n",
    "    concatenated_array = np.concatenate((array1, array2), axis=axis)\n",
    "    return concatenated_array\n",
    "\n",
    "# Given arrays\n",
    "array1 = np.array([[1, 2], [3, 4]])\n",
    "array2 = np.array([[5, 6], [7, 8]])\n",
    "\n",
    "# Concatenate along axis 0 (rows)\n",
    "result_axis0 = concatenate_arrays(array1, array2, axis=0)\n",
    "\n",
    "# Concatenate along axis 1 (columns)\n",
    "result_axis1 = concatenate_arrays(array1, array2, axis=1)\n",
    "\n",
    "print(\"Array1:\\n\", array1)\n",
    "print(\"Array2:\\n\", array2)\n",
    "print(\"Concatenated along axis 0:\\n\", result_axis0)\n",
    "print(\"Concatenated along axis 1:\\n\", result_axis1)\n"
   ]
  },
  {
   "cell_type": "markdown",
   "id": "dc323044-ff67-4e08-9645-fcf331e706cc",
   "metadata": {},
   "source": [
    "Explanation:\n",
    "\n",
    "    np.concatenate((array1, array2), axis=axis): Concatenates the arrays along the specified axis.\n",
    "    Error Handling: Ensures that the arrays have compatible shapes for the specified axis."
   ]
  },
  {
   "cell_type": "raw",
   "id": "3380f4b3-2769-4314-8dd2-d671d7c9e937",
   "metadata": {},
   "source": [
    "49. Create a function that splits an array into multiple sub-arrays along a specified axis.\n",
    "original_array = np.array([[1, 2, 3], [4, 5, 6], [7, 8, 9]])"
   ]
  },
  {
   "cell_type": "code",
   "execution_count": 52,
   "id": "68cf61c7-edf0-4e5f-ac85-963d3baa0f13",
   "metadata": {},
   "outputs": [
    {
     "name": "stdout",
     "output_type": "stream",
     "text": [
      "Original array:\n",
      " [[1 2 3]\n",
      " [4 5 6]\n",
      " [7 8 9]]\n",
      "Split arrays:\n",
      "Sub-array 0:\n",
      "[[1]\n",
      " [4]\n",
      " [7]]\n",
      "Sub-array 1:\n",
      "[[2]\n",
      " [5]\n",
      " [8]]\n",
      "Sub-array 2:\n",
      "[[3]\n",
      " [6]\n",
      " [9]]\n"
     ]
    }
   ],
   "source": [
    "import numpy as np\n",
    "\n",
    "def split_array(array, num_splits, axis):\n",
    "    \"\"\"\n",
    "    Split a NumPy array into multiple sub-arrays along a specified axis.\n",
    "    \n",
    "    Parameters:\n",
    "    array (np.ndarray): The array to split.\n",
    "    num_splits (int): Number of splits along the specified axis.\n",
    "    axis (int): The axis along which to split the array.\n",
    "    \n",
    "    Returns:\n",
    "    list of np.ndarray: List of sub-arrays after splitting.\n",
    "    \"\"\"\n",
    "    # Check if the split is possible\n",
    "    if array.shape[axis] % num_splits != 0:\n",
    "        raise ValueError(\"The array cannot be evenly split along the specified axis.\")\n",
    "    \n",
    "    # Calculate the size of each split along the specified axis\n",
    "    indices = np.linspace(0, array.shape[axis], num_splits + 1, dtype=int)\n",
    "    \n",
    "    # Split the array\n",
    "    sub_arrays = np.split(array, indices[1:-1], axis=axis)\n",
    "    return sub_arrays\n",
    "\n",
    "# Given array\n",
    "original_array = np.array([[1, 2, 3],\n",
    "                           [4, 5, 6],\n",
    "                           [7, 8, 9]])\n",
    "\n",
    "# Number of splits and axis\n",
    "num_splits = 3\n",
    "axis = 1\n",
    "\n",
    "# Split the array\n",
    "split_result = split_array(original_array, num_splits, axis)\n",
    "\n",
    "print(\"Original array:\\n\", original_array)\n",
    "print(\"Split arrays:\")\n",
    "for i, sub_array in enumerate(split_result):\n",
    "    print(f\"Sub-array {i}:\\n{sub_array}\")\n"
   ]
  },
  {
   "cell_type": "markdown",
   "id": "4fa9a226-50d5-4493-840c-10de1ed647e4",
   "metadata": {},
   "source": [
    "\n",
    "\n",
    "Explanation:\n",
    "\n",
    "    np.split(array, indices[1:-1], axis=axis): Splits the array along the specified axis at the indices provided. Here, indices are computed to evenly split the array into num_splits parts.\n",
    "    Error Handling: Ensures that the array can be evenly split along the specified axis."
   ]
  },
  {
   "cell_type": "raw",
   "id": "a2c0be85-f6c3-47ab-a80d-88590c029789",
   "metadata": {},
   "source": [
    "50. Write a function that inserts and then deletes elements from a given array at specified indices.\n",
    "original_array = np.array([1, 2, 3, 4, 5])\n",
    "ndices_to_insert = [2, 4] ",
    "\n",
    "values_to_insert = [10, 11] ",
    "\n",
    "indices_to_delete = [1, 3]"
   ]
  },
  {
   "cell_type": "code",
   "execution_count": 54,
   "id": "4908ac83-807f-43f8-b9dd-1bddb34e61b5",
   "metadata": {},
   "outputs": [
    {
     "name": "stdout",
     "output_type": "stream",
     "text": [
      "Original array:\n",
      " [1 2 3 4 5]\n",
      "Modified array:\n",
      " [ 1 10 11  4  5]\n"
     ]
    }
   ],
   "source": [
    "import numpy as np\n",
    "\n",
    "def insert_and_delete(array, indices_to_insert, values_to_insert, indices_to_delete):\n",
    "    \"\"\"\n",
    "    Insert and then delete elements from a NumPy array at specified indices.\n",
    "    \n",
    "    Parameters:\n",
    "    array (np.ndarray): The original array.\n",
    "    indices_to_insert (list of int): Indices at which to insert new values.\n",
    "    values_to_insert (list of int): Values to insert at the specified indices.\n",
    "    indices_to_delete (list of int): Indices of elements to delete.\n",
    "    \n",
    "    Returns:\n",
    "    np.ndarray: The modified array after insertion and deletion.\n",
    "    \"\"\"\n",
    "    # Insert elements into the array\n",
    "    for index, value in zip(indices_to_insert, values_to_insert):\n",
    "        array = np.insert(array, index, value)\n",
    "    \n",
    "    # Delete elements from the array\n",
    "    # Sort indices in descending order to avoid index shifting issues during deletion\n",
    "    sorted_indices_to_delete = sorted(indices_to_delete, reverse=True)\n",
    "    for index in sorted_indices_to_delete:\n",
    "        array = np.delete(array, index)\n",
    "    \n",
    "    return array\n",
    "\n",
    "# Given array\n",
    "original_array = np.array([1, 2, 3, 4, 5])\n",
    "\n",
    "# Indices and values to insert\n",
    "indices_to_insert = [2, 4]\n",
    "values_to_insert = [10, 11]\n",
    "\n",
    "# Indices to delete\n",
    "indices_to_delete = [1, 3]\n",
    "\n",
    "# Apply the function\n",
    "modified_array = insert_and_delete(original_array, indices_to_insert, values_to_insert, indices_to_delete)\n",
    "\n",
    "print(\"Original array:\\n\", original_array)\n",
    "print(\"Modified array:\\n\", modified_array)\n"
   ]
  },
  {
   "cell_type": "markdown",
   "id": "79fadba8-b9db-45bf-ae0a-2d536ba94424",
   "metadata": {},
   "source": [
    "Explanation:\n",
    "\n",
    "    Insert Elements:\n",
    "        Iterate over indices_to_insert and values_to_insert to insert each value at the specified index using np.insert.\n",
    "\n",
    "    Delete Elements:\n",
    "        Sort indices_to_delete in descending order to handle index shifting during deletion.\n",
    "        Iterate over the sorted indices and use np.delete to remove elements from the array."
   ]
  },
  {
   "cell_type": "raw",
   "id": "953a82dd-091c-4926-ae25-0f3cfd7fef7c",
   "metadata": {},
   "source": [
    "61. . Create a NumPy array `arr1` with random integers and another array `arr2` with integers from 1 to 10.\n",
    "Perform element-wise addition between `arr1` and `arr2`."
   ]
  },
  {
   "cell_type": "code",
   "execution_count": 55,
   "id": "a2d69dbd-c417-4783-a870-8cfe8cd0dc2e",
   "metadata": {},
   "outputs": [
    {
     "name": "stdout",
     "output_type": "stream",
     "text": [
      "Array arr1:\n",
      " [[54 97  4 97]\n",
      " [77 80 24 59]\n",
      " [31 66  3 78]]\n",
      "Array arr2 resized to match arr1 shape:\n",
      " [[ 1  2  3  4]\n",
      " [ 5  6  7  8]\n",
      " [ 9 10  1  2]]\n",
      "Result of element-wise addition:\n",
      " [[ 55  99   7 101]\n",
      " [ 82  86  31  67]\n",
      " [ 40  76   4  80]]\n"
     ]
    }
   ],
   "source": [
    "import numpy as np\n",
    "\n",
    "# Create array arr1 with random integers\n",
    "arr1 = np.random.randint(1, 100, size=(3, 4))  # Example shape (3x4) with values between 1 and 100\n",
    "\n",
    "# Create array arr2 with integers from 1 to 10\n",
    "arr2 = np.arange(1, 11).reshape(2, 5)  # Example shape (2x5) with values from 1 to 10\n",
    "\n",
    "# Make sure arr1 and arr2 have the same shape for element-wise addition\n",
    "# For demonstration purposes, reshape arr2 to match the shape of arr1\n",
    "arr2_resized = np.resize(arr2, arr1.shape)  # Reshape arr2 to the same shape as arr1\n",
    "\n",
    "# Perform element-wise addition\n",
    "result = arr1 + arr2_resized\n",
    "\n",
    "print(\"Array arr1:\\n\", arr1)\n",
    "print(\"Array arr2 resized to match arr1 shape:\\n\", arr2_resized)\n",
    "print(\"Result of element-wise addition:\\n\", result)\n"
   ]
  },
  {
   "cell_type": "markdown",
   "id": "a928aa85-9be0-4708-956a-17347e3337a8",
   "metadata": {},
   "source": [
    "Explanation:\n",
    "\n",
    "    Create arr1: Generates a 3x4 array with random integers between 1 and 100.\n",
    "    Create arr2: Generates an array of integers from 1 to 10, reshaped to 2x5.\n",
    "    Resize arr2: Reshape arr2 to match the shape of arr1 to ensure the arrays are compatible for element-wise addition.\n",
    "    Element-wise Addition: Adds corresponding elements of arr1 and arr2_resized."
   ]
  },
  {
   "cell_type": "raw",
   "id": "6e00acfa-e815-4665-8d9d-ea5b457e0b7f",
   "metadata": {},
   "source": [
    "52. . Generate a NumPy array `arr1` with sequential integers from 10 to 1 and another array `arr2` with integers\n",
    "from 1 to 10. Subtract `arr2` from `arr1` element-wise."
   ]
  },
  {
   "cell_type": "code",
   "execution_count": 56,
   "id": "0207dc76-89f4-428a-8d78-5bc938b6c3cb",
   "metadata": {},
   "outputs": [
    {
     "name": "stdout",
     "output_type": "stream",
     "text": [
      "Array arr1:\n",
      " [[10  9  8  7  6]\n",
      " [ 5  4  3  2  1]]\n",
      "Array arr2:\n",
      " [[ 1  2  3  4  5]\n",
      " [ 6  7  8  9 10]]\n",
      "Result of element-wise subtraction:\n",
      " [[ 9  7  5  3  1]\n",
      " [-1 -3 -5 -7 -9]]\n"
     ]
    }
   ],
   "source": [
    "import numpy as np\n",
    "\n",
    "# Generate arr1 with sequential integers from 10 to 1\n",
    "arr1 = np.arange(10, 0, -1).reshape(2, 5)  # Example shape (2x5)\n",
    "\n",
    "# Generate arr2 with integers from 1 to 10\n",
    "arr2 = np.arange(1, 11).reshape(2, 5)  # Example shape (2x5)\n",
    "\n",
    "# Perform element-wise subtraction\n",
    "result = arr1 - arr2\n",
    "\n",
    "print(\"Array arr1:\\n\", arr1)\n",
    "print(\"Array arr2:\\n\", arr2)\n",
    "print(\"Result of element-wise subtraction:\\n\", result)\n"
   ]
  },
  {
   "cell_type": "markdown",
   "id": "885ff9c0-53e8-43b4-8d03-a3666cf2a8d7",
   "metadata": {},
   "source": [
    "Explanation:\n",
    "\n",
    "    Generate arr1: Use np.arange(10, 0, -1) to create an array with sequential integers from 10 to 1. Reshape it to a 2x5 array.\n",
    "    Generate arr2: Use np.arange(1, 11) to create an array with integers from 1 to 10. Reshape it to a 2x5 array.\n",
    "    Element-wise Subtraction: Subtract arr2 from arr1 element-wise."
   ]
  },
  {
   "cell_type": "raw",
   "id": "d1b3bc5d-6c47-4e4d-993a-83384cb01ed4",
   "metadata": {},
   "source": [
    "53. Create a NumPy array `arr1` with random integers and another array `arr2` with integers from 1 to 5.\n",
    "Perform element-wise multiplication between `arr1` and `arr2`."
   ]
  },
  {
   "cell_type": "code",
   "execution_count": 57,
   "id": "4d4eb89e-645a-4a05-afe4-6eca0426217e",
   "metadata": {},
   "outputs": [
    {
     "name": "stdout",
     "output_type": "stream",
     "text": [
      "Array arr1:\n",
      " [[2 4 6 1 6]\n",
      " [6 4 3 3 9]]\n",
      "Array arr2 reshaped to match arr1 shape:\n",
      " [[1 2 3 4 5]]\n",
      "Result of element-wise multiplication:\n",
      " [[ 2  8 18  4 30]\n",
      " [ 6  8  9 12 45]]\n"
     ]
    }
   ],
   "source": [
    "import numpy as np\n",
    "\n",
    "# Generate arr1 with random integers\n",
    "arr1 = np.random.randint(1, 10, size=(2, 5))  # Example shape (2x5) with values between 1 and 10\n",
    "\n",
    "# Generate arr2 with integers from 1 to 5\n",
    "arr2 = np.arange(1, 6)  # Shape (5,) with values from 1 to 5\n",
    "\n",
    "# Reshape arr2 to match the shape of arr1 for element-wise multiplication\n",
    "arr2_reshaped = arr2.reshape(1, 5)  # Reshape to (1x5) so it can be broadcasted to (2x5)\n",
    "\n",
    "# Perform element-wise multiplication\n",
    "result = arr1 * arr2_reshaped\n",
    "\n",
    "print(\"Array arr1:\\n\", arr1)\n",
    "print(\"Array arr2 reshaped to match arr1 shape:\\n\", arr2_reshaped)\n",
    "print(\"Result of element-wise multiplication:\\n\", result)\n"
   ]
  },
  {
   "cell_type": "markdown",
   "id": "d68c9800-2d8b-4581-95d1-aa08d9e4c44f",
   "metadata": {},
   "source": [
    "Explanation:\n",
    "\n",
    "    Generate arr1: Use np.random.randint to create an array with random integers. Here, it’s shaped (2, 5).\n",
    "    Generate arr2: Use np.arange(1, 6) to create an array with integers from 1 to 5. Its shape is (5,).\n",
    "    Reshape arr2: Reshape arr2 to (1, 5) to enable broadcasting with arr1 during multiplication.\n",
    "    Element-wise Multiplication: Multiply arr1 and arr2_reshaped element-wise."
   ]
  },
  {
   "cell_type": "raw",
   "id": "29c061e6-3d1c-4308-976e-206a45a8f1f4",
   "metadata": {},
   "source": [
    "54. Generate a NumPy array `arr1` with even integers from 2 to 10 and another array `arr2` with integers from 1\n",
    "to 5. Perform element-wise division of `arr1` by `arr2`.\n"
   ]
  },
  {
   "cell_type": "code",
   "execution_count": 58,
   "id": "dff9a2de-ada1-4a47-bbaa-367f3ada5f64",
   "metadata": {},
   "outputs": [
    {
     "name": "stdout",
     "output_type": "stream",
     "text": [
      "Array arr1:\n",
      " [ 2  4  6  8 10]\n",
      "Array arr2:\n",
      " [1 2 3 4 5]\n",
      "Result of element-wise division:\n",
      " [2. 2. 2. 2. 2.]\n"
     ]
    }
   ],
   "source": [
    "import numpy as np\n",
    "\n",
    "# Generate arr1 with even integers from 2 to 10\n",
    "arr1 = np.arange(2, 11, 2)  # Creates array [2, 4, 6, 8, 10]\n",
    "\n",
    "# Generate arr2 with integers from 1 to 5\n",
    "arr2 = np.arange(1, 6)  # Creates array [1, 2, 3, 4, 5]\n",
    "\n",
    "# Reshape arr1 and arr2 to be compatible for element-wise division\n",
    "# In this case, both are of the same shape (5,) so no reshaping is needed\n",
    "\n",
    "# Perform element-wise division\n",
    "result = arr1 / arr2\n",
    "\n",
    "print(\"Array arr1:\\n\", arr1)\n",
    "print(\"Array arr2:\\n\", arr2)\n",
    "print(\"Result of element-wise division:\\n\", result)\n"
   ]
  },
  {
   "cell_type": "raw",
   "id": "8753306b-be62-4961-bd4e-89895773ec75",
   "metadata": {},
   "source": [
    "55.Create a NumPy array `arr1` with integers from 1 to 5 and another array `arr2` with the same numbers\n",
    "reversed. Calculate the exponentiation of `arr1` raised to the power of `arr2` element-wise."
   ]
  },
  {
   "cell_type": "code",
   "execution_count": 59,
   "id": "1ca05595-8677-4605-a0e8-d153182fbbd9",
   "metadata": {},
   "outputs": [
    {
     "name": "stdout",
     "output_type": "stream",
     "text": [
      "Array arr1:\n",
      " [1 2 3 4 5]\n",
      "Array arr2:\n",
      " [5 4 3 2 1]\n",
      "Result of element-wise exponentiation:\n",
      " [ 1 16 27 16  5]\n"
     ]
    }
   ],
   "source": [
    "import numpy as np\n",
    "\n",
    "# Create arr1 with integers from 1 to 5\n",
    "arr1 = np.arange(1, 6)  # Creates array [1, 2, 3, 4, 5]\n",
    "\n",
    "# Create arr2 with the same numbers reversed\n",
    "arr2 = arr1[::-1]  # Creates array [5, 4, 3, 2, 1]\n",
    "\n",
    "# Calculate exponentiation of arr1 raised to the power of arr2 element-wise\n",
    "result = np.power(arr1, arr2)\n",
    "\n",
    "print(\"Array arr1:\\n\", arr1)\n",
    "print(\"Array arr2:\\n\", arr2)\n",
    "print(\"Result of element-wise exponentiation:\\n\", result)\n"
   ]
  },
  {
   "cell_type": "markdown",
   "id": "2e75f547-b289-4f76-a41b-106fc875635f",
   "metadata": {},
   "source": [
    "Explanation:\n",
    "\n",
    "    Generate arr1: Use np.arange(1, 6) to create an array with integers from 1 to 5.\n",
    "    Generate arr2: Reverse arr1 using slicing [::-1] to create an array with the same numbers in reverse order.\n",
    "    Element-wise Exponentiation: Use np.power(arr1, arr2) to compute the exponentiation of each element in arr1 raised to the power of the corresponding element in arr2"
   ]
  },
  {
   "cell_type": "raw",
   "id": "885250f4-cb1c-482a-a4ff-2f72db209b72",
   "metadata": {},
   "source": [
    "56. Write a function that counts the occurrences of a specific substring within a NumPy array of strings.\n",
    "arr = np.array(['hello', 'world', 'hello', 'numpy', 'hello'])"
   ]
  },
  {
   "cell_type": "code",
   "execution_count": 60,
   "id": "35db4166-761c-49e5-86bd-6de882144bf0",
   "metadata": {},
   "outputs": [
    {
     "name": "stdout",
     "output_type": "stream",
     "text": [
      "Occurrences of substring 'hello': 3\n"
     ]
    }
   ],
   "source": [
    "import numpy as np\n",
    "\n",
    "def count_substring_occurrences(arr, substring):\n",
    "    # Convert the NumPy array to a list of strings\n",
    "    strings = arr.tolist()\n",
    "    \n",
    "    # Initialize the count\n",
    "    count = 0\n",
    "    \n",
    "    # Iterate over each string in the array\n",
    "    for string in strings:\n",
    "        # Count occurrences of the substring in the current string\n",
    "        count += string.count(substring)\n",
    "    \n",
    "    return count\n",
    "\n",
    "# Example array and substring\n",
    "arr = np.array(['hello', 'world', 'hello', 'numpy', 'hello'])\n",
    "substring = 'hello'\n",
    "\n",
    "# Count occurrences\n",
    "result = count_substring_occurrences(arr, substring)\n",
    "\n",
    "print(\"Occurrences of substring '{}': {}\".format(substring, result))\n"
   ]
  },
  {
   "cell_type": "markdown",
   "id": "b976d0f6-c3b2-4eb2-b4d4-1e61c842494a",
   "metadata": {},
   "source": [
    "Explanation:\n",
    "\n",
    "    Convert Array to List: Convert the NumPy array to a list of strings to make iteration easier.\n",
    "    Count Occurrences: Initialize a count variable and iterate over each string in the list. Use the count method of strings to find how many times the substring appears in each string, adding to the total count.\n",
    "    Return Result: Return the total count of occurrences."
   ]
  },
  {
   "cell_type": "raw",
   "id": "ba5c5db1-2c57-43b0-9e75-4414840b1e2b",
   "metadata": {},
   "source": [
    "57.  Write a function that extracts uppercase characters from a NumPy array of strings.\n",
    "\n",
    "arr = np.array(['Hello', 'World', 'OpenAI', 'GPT'])\n"
   ]
  },
  {
   "cell_type": "code",
   "execution_count": 61,
   "id": "28871ac8-718d-4b57-ad41-1e36afe55f62",
   "metadata": {},
   "outputs": [
    {
     "name": "stdout",
     "output_type": "stream",
     "text": [
      "Uppercase characters:\n",
      " ['H' 'W' 'OAI' 'GPT']\n"
     ]
    }
   ],
   "source": [
    "import numpy as np\n",
    "\n",
    "def extract_uppercase(arr):\n",
    "    # Initialize an empty list to hold the results\n",
    "    uppercase_chars = []\n",
    "    \n",
    "    # Iterate over each string in the NumPy array\n",
    "    for string in arr:\n",
    "        # Extract uppercase characters from the current string\n",
    "        uppercase_chars.append(''.join(char for char in string if char.isupper()))\n",
    "    \n",
    "    # Convert the list back to a NumPy array\n",
    "    return np.array(uppercase_chars)\n",
    "\n",
    "# Example array\n",
    "arr = np.array(['Hello', 'World', 'OpenAI', 'GPT'])\n",
    "\n",
    "# Extract uppercase characters\n",
    "result = extract_uppercase(arr)\n",
    "\n",
    "print(\"Uppercase characters:\\n\", result)\n"
   ]
  },
  {
   "cell_type": "markdown",
   "id": "8f24412a-2c72-4768-a192-03f466b1ecc9",
   "metadata": {},
   "source": [
    "Explanation:\n",
    "\n",
    "    Initialize List: Create an empty list to store the results.\n",
    "    Iterate and Extract: For each string in the array, use a generator expression inside join to extract only the uppercase characters.\n",
    "    Convert to NumPy Array: Convert the list of extracted uppercase characters back to a NumPy array."
   ]
  },
  {
   "cell_type": "raw",
   "id": "7f3de58e-757c-4d51-a951-7106295c620f",
   "metadata": {},
   "source": [
    "58. Write a function that replaces occurrences of a substring in a NumPy array of strings with a new string\n",
    "arr = np.array(['apple', 'banana', 'grape', 'pineapple'])"
   ]
  },
  {
   "cell_type": "code",
   "execution_count": 62,
   "id": "c6886685-8dc1-4020-9722-b6db5c43b022",
   "metadata": {},
   "outputs": [
    {
     "name": "stdout",
     "output_type": "stream",
     "text": [
      "Array with replaced substrings:\n",
      " ['orange' 'banana' 'grape' 'pineorange']\n"
     ]
    }
   ],
   "source": [
    "import numpy as np\n",
    "\n",
    "def replace_substring(arr, old_substring, new_substring):\n",
    "    # Use a list comprehension to replace the substring in each element\n",
    "    replaced_arr = np.array([string.replace(old_substring, new_substring) for string in arr])\n",
    "    return replaced_arr\n",
    "\n",
    "# Example array\n",
    "arr = np.array(['apple', 'banana', 'grape', 'pineapple'])\n",
    "\n",
    "# Define the substring to replace and the new substring\n",
    "old_substring = 'apple'\n",
    "new_substring = 'orange'\n",
    "\n",
    "# Replace the substring\n",
    "result = replace_substring(arr, old_substring, new_substring)\n",
    "\n",
    "print(\"Array with replaced substrings:\\n\", result)\n"
   ]
  },
  {
   "cell_type": "markdown",
   "id": "80fa235f-1fb1-442a-b472-773c5c730c79",
   "metadata": {},
   "source": [
    "Explanation:\n",
    "\n",
    "    List Comprehension: Iterate over each string in the NumPy array and use the replace method to replace occurrences of old_substring with new_substring.\n",
    "    Convert to NumPy Array: Convert the list of replaced strings back into a NumPy array."
   ]
  },
  {
   "cell_type": "raw",
   "id": "e3bf2ac2-bca6-4211-b28c-ebc748856ec8",
   "metadata": {},
   "source": [
    "59.  Write a function that concatenates strings in a NumPy array element-wise.\n",
    "arr1 = np.array(['Hello', 'World']) ",
    "\n",
    "arr2 = np.array(['Open', 'AI'])"
   ]
  },
  {
   "cell_type": "code",
   "execution_count": 63,
   "id": "cf9b4312-11b9-4295-8fd5-8605cfcf835f",
   "metadata": {},
   "outputs": [
    {
     "name": "stdout",
     "output_type": "stream",
     "text": [
      "Concatenated array:\n",
      " ['HelloOpen' 'WorldAI']\n"
     ]
    }
   ],
   "source": [
    "import numpy as np\n",
    "\n",
    "def concatenate_strings(arr1, arr2):\n",
    "    # Concatenate strings element-wise\n",
    "    concatenated_arr = np.char.add(arr1, arr2)\n",
    "    return concatenated_arr\n",
    "\n",
    "# Example arrays\n",
    "arr1 = np.array(['Hello', 'World'])\n",
    "arr2 = np.array(['Open', 'AI'])\n",
    "\n",
    "# Concatenate the strings\n",
    "result = concatenate_strings(arr1, arr2)\n",
    "\n",
    "print(\"Concatenated array:\\n\", result)\n"
   ]
  },
  {
   "cell_type": "markdown",
   "id": "49c17382-9ed0-4613-b462-c671bd2849e1",
   "metadata": {},
   "source": [
    "Explanation:\n",
    "\n",
    "    Use np.char.add: The np.char.add function performs element-wise string concatenation. It is designed for such operations and ensures that the concatenation is applied to each pair of strings from arr1 and arr2.\n",
    "    Return Result: Return the concatenated NumPy array."
   ]
  },
  {
   "cell_type": "raw",
   "id": "bdcae2f2-bad8-42ce-a298-30f515ec8264",
   "metadata": {},
   "source": [
    "60. Write a function that finds the length of the longest string in a NumPy array.\n",
    "\n",
    "arr = np.array(['apple', 'banana', 'grape', 'pineapple'])\n",
    "arr = np.array(['apple', 'banana', 'grape', 'pineapple'])"
   ]
  },
  {
   "cell_type": "code",
   "execution_count": 64,
   "id": "2181db5f-197d-4141-bdfa-5ccc81116b6b",
   "metadata": {},
   "outputs": [
    {
     "name": "stdout",
     "output_type": "stream",
     "text": [
      "Length of the longest string: 9\n"
     ]
    }
   ],
   "source": [
    "import numpy as np\n",
    "\n",
    "def longest_string_length(arr):\n",
    "    # Vectorize the length function\n",
    "    length_function = np.vectorize(len)\n",
    "    \n",
    "    # Get lengths of all strings in the array\n",
    "    lengths = length_function(arr)\n",
    "    \n",
    "    # Find the maximum length\n",
    "    max_length = np.max(lengths)\n",
    "    \n",
    "    return max_length\n",
    "\n",
    "# Example array\n",
    "arr = np.array(['apple', 'banana', 'grape', 'pineapple'])\n",
    "\n",
    "# Find the length of the longest string\n",
    "result = longest_string_length(arr)\n",
    "\n",
    "print(\"Length of the longest string:\", result)\n"
   ]
  },
  {
   "cell_type": "markdown",
   "id": "11fd0796-6d9b-40f6-9f27-18b4ebc628e2",
   "metadata": {},
   "source": [
    "Explanation:\n",
    "\n",
    "    Vectorize Length Function: Use np.vectorize(len) to create a vectorized version of the len function, allowing it to be applied to each element of the NumPy array.\n",
    "    Calculate Lengths: Apply this vectorized function to the array to get an array of lengths.\n",
    "    Find Maximum Length: Use np.max to find the maximum value in the array of lengths."
   ]
  },
  {
   "cell_type": "raw",
   "id": "e35acae5-ddca-4a83-8922-c352ae957b55",
   "metadata": {},
   "source": [
    "61. . Create a dataset of 100 random integers between 1 and 1000. Compute the mean, median, variance, and\n",
    "standard deviation of the dataset using NumPy's functions"
   ]
  },
  {
   "cell_type": "code",
   "execution_count": 65,
   "id": "ead565c9-8f52-4758-8848-7e02f1a1f571",
   "metadata": {},
   "outputs": [
    {
     "name": "stdout",
     "output_type": "stream",
     "text": [
      "Dataset:\n",
      " [ 413  112  417  983  240  684  794  688  893  991  218  702  257   69\n",
      "  336   62  953  734   64   83  760  535  140  189  149  970 1000  875\n",
      "  718  989  210  591  234  444  730  427  160  754  487  787  496  931\n",
      "  628  380  626  132  727  768   31  781  552  208   77  281  942  902\n",
      "   79  417  636  459  983  729  960  199  639  379  704  474  357  548\n",
      "   38  866  371  313   10  117  158   84  725  482  428  367   94   92\n",
      "  290  926  877  236  323  818  961  547  884  687  571  933  977  280\n",
      "  346  214]\n",
      "Mean: 508.82\n",
      "Median: 484.5\n",
      "Variance: 93959.06759999997\n",
      "Standard Deviation: 306.5274336825335\n"
     ]
    }
   ],
   "source": [
    "import numpy as np\n",
    "\n",
    "# Create a dataset of 100 random integers between 1 and 1000\n",
    "dataset = np.random.randint(1, 1001, size=100)\n",
    "\n",
    "# Compute mean\n",
    "mean = np.mean(dataset)\n",
    "\n",
    "# Compute median\n",
    "median = np.median(dataset)\n",
    "\n",
    "# Compute variance\n",
    "variance = np.var(dataset)\n",
    "\n",
    "# Compute standard deviation\n",
    "std_dev = np.std(dataset)\n",
    "\n",
    "print(\"Dataset:\\n\", dataset)\n",
    "print(\"Mean:\", mean)\n",
    "print(\"Median:\", median)\n",
    "print(\"Variance:\", variance)\n",
    "print(\"Standard Deviation:\", std_dev)\n"
   ]
  },
  {
   "cell_type": "raw",
   "id": "1ed893a6-f78e-48e8-aa3c-08603121dbf5",
   "metadata": {},
   "source": [
    "62.Generate an array of 50 random numbers between 1 and 100. Find the 25th and 75th percentiles of the\n",
    "dataset."
   ]
  },
  {
   "cell_type": "code",
   "execution_count": 66,
   "id": "6579751c-d6c2-4784-a426-ff09e7a41e70",
   "metadata": {},
   "outputs": [
    {
     "name": "stdout",
     "output_type": "stream",
     "text": [
      "Data:\n",
      " [ 24  53  18  14   8 100  11  39  29  99  95  26  30  47  12  78  89  65\n",
      "  32  34  91  27   7  21  43  45  74   2  13  91  63  70  11   6  23  11\n",
      "  76  98  64  91  70  35   4  98  75  13  77  86  86  58]\n",
      "25th Percentile: 18.75\n",
      "75th Percentile: 76.75\n"
     ]
    }
   ],
   "source": [
    "import numpy as np\n",
    "\n",
    "# Generate an array of 50 random numbers between 1 and 100\n",
    "data = np.random.randint(1, 101, size=50)\n",
    "\n",
    "# Find the 25th and 75th percentiles\n",
    "percentile_25 = np.percentile(data, 25)\n",
    "percentile_75 = np.percentile(data, 75)\n",
    "\n",
    "print(\"Data:\\n\", data)\n",
    "print(\"25th Percentile:\", percentile_25)\n",
    "print(\"75th Percentile:\", percentile_75)\n"
   ]
  },
  {
   "cell_type": "markdown",
   "id": "e239f1df-bdc2-487e-8cbd-3abbda02f395",
   "metadata": {},
   "source": [
    "Explanation:\n",
    "\n",
    "    Generate Array: Use np.random.randint(1, 101, size=50) to create an array of 50 random integers between 1 and 100.\n",
    "    Compute Percentiles: Use np.percentile(data, 25) to compute the 25th percentile and np.percentile(data, 75) for the 75th percentile."
   ]
  },
  {
   "cell_type": "raw",
   "id": "735be90f-506b-4013-87e4-c522be55de83",
   "metadata": {},
   "source": [
    "63.  Create two arrays representing two sets of variables. Compute the correlation coefficient between these\n",
    "arrays using NumPy's `corrcoef` function.\n"
   ]
  },
  {
   "cell_type": "code",
   "execution_count": 67,
   "id": "7c19bcaa-28f6-4019-81e7-4e6f41ad232a",
   "metadata": {},
   "outputs": [
    {
     "name": "stdout",
     "output_type": "stream",
     "text": [
      "Correlation Coefficient Matrix:\n",
      " [[1. 1.]\n",
      " [1. 1.]]\n",
      "Correlation Coefficient between array1 and array2: 0.9999999999999999\n"
     ]
    }
   ],
   "source": [
    "import numpy as np\n",
    "\n",
    "# Create two arrays representing two sets of variables\n",
    "array1 = np.array([1, 2, 3, 4, 5])\n",
    "array2 = np.array([2, 4, 6, 8, 10])\n",
    "\n",
    "# Compute the correlation coefficient matrix\n",
    "correlation_matrix = np.corrcoef(array1, array2)\n",
    "\n",
    "# Extract the correlation coefficient between array1 and array2\n",
    "correlation_coefficient = correlation_matrix[0, 1]\n",
    "\n",
    "print(\"Correlation Coefficient Matrix:\\n\", correlation_matrix)\n",
    "print(\"Correlation Coefficient between array1 and array2:\", correlation_coefficient)\n"
   ]
  },
  {
   "cell_type": "markdown",
   "id": "633cf544-021f-4d36-b501-ae344e93fed3",
   "metadata": {},
   "source": [
    "Explanation:\n",
    "\n",
    "    Create Arrays: Define the two arrays for which you want to compute the correlation coefficient.\n",
    "    Compute Correlation Coefficient Matrix: Use np.corrcoef(array1, array2) to compute the correlation matrix. This matrix contains the correlation coefficients between the variables in the arrays.\n",
    "    Extract Correlation Coefficient: The correlation coefficient between array1 and array2 is found at position [0, 1] in the correlation matrix."
   ]
  },
  {
   "cell_type": "raw",
   "id": "383e0255-e5b9-4817-88c5-40e4f1fb1efc",
   "metadata": {},
   "source": [
    "64. Create two matrices and perform matrix multiplication using NumPy's `dot` function"
   ]
  },
  {
   "cell_type": "code",
   "execution_count": 68,
   "id": "97276e50-d52e-4dc0-a08c-a9fa00d343b7",
   "metadata": {},
   "outputs": [
    {
     "name": "stdout",
     "output_type": "stream",
     "text": [
      "Matrix 1:\n",
      " [[1 2 3]\n",
      " [4 5 6]]\n",
      "Matrix 2:\n",
      " [[ 7  8]\n",
      " [ 9 10]\n",
      " [11 12]]\n",
      "Result of Matrix Multiplication:\n",
      " [[ 58  64]\n",
      " [139 154]]\n"
     ]
    }
   ],
   "source": [
    "import numpy as np\n",
    "\n",
    "# Create two matrices\n",
    "matrix1 = np.array([[1, 2, 3], [4, 5, 6]])\n",
    "matrix2 = np.array([[7, 8], [9, 10], [11, 12]])\n",
    "\n",
    "# Perform matrix multiplication using np.dot\n",
    "result = np.dot(matrix1, matrix2)\n",
    "\n",
    "print(\"Matrix 1:\\n\", matrix1)\n",
    "print(\"Matrix 2:\\n\", matrix2)\n",
    "print(\"Result of Matrix Multiplication:\\n\", result)\n"
   ]
  },
  {
   "cell_type": "markdown",
   "id": "8824eeae-3298-4fa6-a016-21b85355e188",
   "metadata": {},
   "source": [
    "Explanation:\n",
    "\n",
    "    Create Matrices:\n",
    "        matrix1 is a 2x3 matrix.\n",
    "        matrix2 is a 3x2 matrix.\n",
    "        For matrix multiplication to be valid, the number of columns in matrix1 must be equal to the number of rows in matrix2.\n",
    "\n",
    "    Perform Matrix Multiplication:\n",
    "        Use np.dot(matrix1, matrix2) to perform matrix multiplication. The result will be a 2x2 matrix."
   ]
  },
  {
   "cell_type": "raw",
   "id": "2ff5b62d-c874-4d3a-8910-787d52d434da",
   "metadata": {},
   "source": [
    "65.. Create an array of 50 integers between 10 and 1000. Calculate the 10th, 50th (median), and 90th\n",
    "percentiles along with the first and third quartiles"
   ]
  },
  {
   "cell_type": "code",
   "execution_count": 69,
   "id": "96e1b209-bd8a-42d3-958b-e392d832b21e",
   "metadata": {},
   "outputs": [
    {
     "name": "stdout",
     "output_type": "stream",
     "text": [
      "Data:\n",
      " [437 760 394 868 520 202  61 902 183 294 935 106 999 675 984 917 665 631\n",
      " 797 567 533 161 830 773 853 884 975 827  86 979 904 773 232 661 479 252\n",
      " 257 991 107 242 619 644 591 451 155 672 256 136  95  43]\n",
      "10th Percentile: 106.9\n",
      "50th Percentile (Median): 605.0\n",
      "90th Percentile: 939.0\n",
      "1st Quartile (25th Percentile): 244.5\n",
      "3rd Quartile (75th Percentile): 829.25\n"
     ]
    }
   ],
   "source": [
    "import numpy as np\n",
    "\n",
    "# Create an array of 50 integers between 10 and 1000\n",
    "data = np.random.randint(10, 1001, size=50)\n",
    "\n",
    "# Calculate the 10th, 50th (median), and 90th percentiles\n",
    "percentile_10 = np.percentile(data, 10)\n",
    "percentile_50 = np.percentile(data, 50)  # Median\n",
    "percentile_90 = np.percentile(data, 90)\n",
    "\n",
    "# Calculate the first (25th) and third (75th) quartiles\n",
    "quartile_1 = np.percentile(data, 25)\n",
    "quartile_3 = np.percentile(data, 75)\n",
    "\n",
    "print(\"Data:\\n\", data)\n",
    "print(\"10th Percentile:\", percentile_10)\n",
    "print(\"50th Percentile (Median):\", percentile_50)\n",
    "print(\"90th Percentile:\", percentile_90)\n",
    "print(\"1st Quartile (25th Percentile):\", quartile_1)\n",
    "print(\"3rd Quartile (75th Percentile):\", quartile_3)\n"
   ]
  },
  {
   "cell_type": "markdown",
   "id": "54ea98c3-45fc-486b-9217-6a20fceba8a1",
   "metadata": {},
   "source": [
    "\n",
    "Explanation:\n",
    "\n",
    "    Create Array: Use np.random.randint(10, 1001, size=50) to generate an array of 50 random integers between 10 and 1000.\n",
    "    Calculate Percentiles: Use np.percentile(data, 10), np.percentile(data, 50), and np.percentile(data, 90) to compute the 10th, 50th (median), and 90th percentiles, respectively.\n",
    "    Calculate Quartiles: Use np.percentile(data, 25) for the 1st quartile (25th percentile) and np.percentile(data, 75) for the 3rd quartile (75th percentile)."
   ]
  },
  {
   "cell_type": "raw",
   "id": "1821bf25-2fb2-454a-b745-f8f22390ae9c",
   "metadata": {},
   "source": [
    "66. Create a NumPy array of integers and find the index of a specific element."
   ]
  },
  {
   "cell_type": "code",
   "execution_count": 70,
   "id": "5d7eb9ff-87bb-4717-9727-dfc5274e0222",
   "metadata": {},
   "outputs": [
    {
     "name": "stdout",
     "output_type": "stream",
     "text": [
      "Array:\n",
      " [ 10  20  30  40  50  60  70  80  90 100]\n",
      "Index of element 50 : [4]\n"
     ]
    }
   ],
   "source": [
    "import numpy as np\n",
    "\n",
    "# Create a NumPy array of integers\n",
    "array = np.array([10, 20, 30, 40, 50, 60, 70, 80, 90, 100])\n",
    "\n",
    "# Specify the element to find\n",
    "element_to_find = 50\n",
    "\n",
    "# Find the index of the specific element\n",
    "indices = np.where(array == element_to_find)\n",
    "\n",
    "# Print the index\n",
    "print(\"Array:\\n\", array)\n",
    "print(\"Index of element\", element_to_find, \":\", indices[0])\n"
   ]
  },
  {
   "cell_type": "markdown",
   "id": "80035136-9447-430a-ab70-5bad1e9ff2bd",
   "metadata": {},
   "source": [
    "Explanation:\n",
    "\n",
    "    Create Array: np.array([10, 20, 30, 40, 50, 60, 70, 80, 90, 100]) creates a NumPy array of integers.\n",
    "    Find Index: np.where(array == element_to_find) returns a tuple of arrays, where each array contains the indices of elements that satisfy the condition. indices[0] retrieves the index positions from the tuple."
   ]
  },
  {
   "cell_type": "raw",
   "id": "0184661b-9c06-4544-90e2-0807f1845492",
   "metadata": {},
   "source": [
    "67. . Generate a random NumPy array and sort it in ascending order.\n"
   ]
  },
  {
   "cell_type": "code",
   "execution_count": 71,
   "id": "319c4c22-78a5-4d18-b7c4-509f72aecc9d",
   "metadata": {},
   "outputs": [
    {
     "name": "stdout",
     "output_type": "stream",
     "text": [
      "Original Array:\n",
      " [20 32 30 57  8 27 93 13 11 28]\n",
      "Sorted Array:\n",
      " [ 8 11 13 20 27 28 30 32 57 93]\n"
     ]
    }
   ],
   "source": [
    "import numpy as np\n",
    "\n",
    "# Generate a random NumPy array of integers\n",
    "array = np.random.randint(1, 100, size=10)  # Random integers between 1 and 100, with 10 elements\n",
    "\n",
    "# Print the original array\n",
    "print(\"Original Array:\\n\", array)\n",
    "\n",
    "# Sort the array in ascending order\n",
    "sorted_array = np.sort(array)\n",
    "\n",
    "# Print the sorted array\n",
    "print(\"Sorted Array:\\n\", sorted_array)\n"
   ]
  },
  {
   "cell_type": "raw",
   "id": "a28104de-46fd-4fa3-9073-7772d1c4d993",
   "metadata": {},
   "source": [
    "69.  Filter elements >20 in the given NumPy array.\n",
    "arr = np.array([1, 5, 8, 12, 15])"
   ]
  },
  {
   "cell_type": "code",
   "execution_count": 72,
   "id": "e158256f-544b-4fa1-a5c0-7bfa57e2bae8",
   "metadata": {},
   "outputs": [
    {
     "name": "stdout",
     "output_type": "stream",
     "text": [
      "Filtered Elements > 20: []\n"
     ]
    }
   ],
   "source": [
    "import numpy as np\n",
    "\n",
    "# Given NumPy array\n",
    "arr = np.array([1, 5, 8, 12, 15])\n",
    "\n",
    "# Filter elements greater than 20\n",
    "filtered_elements = arr[arr > 20]\n",
    "\n",
    "# Print the filtered array\n",
    "print(\"Filtered Elements > 20:\", filtered_elements)\n"
   ]
  },
  {
   "cell_type": "markdown",
   "id": "9967416b-a218-49f5-8b01-38922da9fef4",
   "metadata": {},
   "source": [
    "Explanation:\n",
    "\n",
    "    Boolean Indexing: arr > 20 creates a boolean array where each element is True if the corresponding element in arr is greater than 20, and False otherwise.\n",
    "    Filtering: arr[arr > 20] uses this boolean array to index arr, returning only the elements that satisfy the condition."
   ]
  },
  {
   "cell_type": "raw",
   "id": "240fdd41-c9b2-4713-ba59-8d0ccaac1cdb",
   "metadata": {},
   "source": [
    "70.Filter elements which are ≥ 20 and ≤ 40 from a given NumPy array.\n",
    "arr = np.array([10, 20, 30, 40, 50])"
   ]
  },
  {
   "cell_type": "code",
   "execution_count": 73,
   "id": "fa7c9d4f-359e-4ab3-ad02-f9eefd89575a",
   "metadata": {},
   "outputs": [
    {
     "name": "stdout",
     "output_type": "stream",
     "text": [
      "Filtered Elements (20 ≤ x ≤ 40): [20 30 40]\n"
     ]
    }
   ],
   "source": [
    "import numpy as np\n",
    "\n",
    "# Given NumPy array\n",
    "arr = np.array([10, 20, 30, 40, 50])\n",
    "\n",
    "# Filter elements >= 20 and <= 40\n",
    "filtered_elements = arr[(arr >= 20) & (arr <= 40)]\n",
    "\n",
    "# Print the filtered array\n",
    "print(\"Filtered Elements (20 ≤ x ≤ 40):\", filtered_elements)\n"
   ]
  },
  {
   "cell_type": "markdown",
   "id": "97dd31f2-7e4e-4898-8a80-aa0a87d09cf2",
   "metadata": {},
   "source": [
    "Explanation:\n",
    "\n",
    "    Boolean Indexing with Multiple Conditions:\n",
    "        (arr >= 20) creates a boolean array where each element is True if it is greater than or equal to 20.\n",
    "        (arr <= 40) creates a boolean array where each element is True if it is less than or equal to 40.\n",
    "        The & operator combines these two boolean arrays, resulting in an array where each element is True if it satisfies both conditions.\n",
    "    Filtering:\n",
    "        arr[(arr >= 20) & (arr <= 40)] uses this combined boolean array to index arr, returning only the elements that satisfy both conditions."
   ]
  },
  {
   "cell_type": "raw",
   "id": "aac11dfb-6ef5-4959-aeee-c06228c54b17",
   "metadata": {},
   "source": [
    "71. . For the given NumPy array, check its byte order using the `dtype` attribute byteorder\n",
    "arr = np.array([1, 2, 3])"
   ]
  },
  {
   "cell_type": "code",
   "execution_count": 74,
   "id": "952aef01-0934-4105-b32f-40cae00f3d29",
   "metadata": {},
   "outputs": [
    {
     "name": "stdout",
     "output_type": "stream",
     "text": [
      "Byte order: Native (system's default endianness)\n"
     ]
    }
   ],
   "source": [
    "import numpy as np\n",
    "\n",
    "# Given NumPy array\n",
    "arr = np.array([1, 2, 3])\n",
    "\n",
    "# Check the byte order using the dtype attribute\n",
    "byteorder = arr.dtype.byteorder\n",
    "\n",
    "# Interpret the byteorder value\n",
    "if byteorder == '=':\n",
    "    print(\"Byte order: Native (system's default endianness)\")\n",
    "elif byteorder == '<':\n",
    "    print(\"Byte order: Little-endian\")\n",
    "elif byteorder == '>':\n",
    "    print(\"Byte order: Big-endian\")\n",
    "else:\n",
    "    print(\"Byte order: Unknown\")\n"
   ]
  },
  {
   "cell_type": "markdown",
   "id": "7d75024e-52c6-4445-9f70-54ab999a58e8",
   "metadata": {},
   "source": [
    "Explanation:\n",
    "\n",
    "    Access Byte Order:\n",
    "        arr.dtype.byteorder returns the byte order of the array.\n",
    "        '=' indicates that the byte order is native to the system.\n",
    "        '<' indicates little-endian byte order.\n",
    "        '>' indicates big-endian byte order.\n",
    "\n",
    "    Interpret Byte Order:\n",
    "        The code snippet checks the value of byteorder and prints the appropriate byte order description."
   ]
  },
  {
   "cell_type": "raw",
   "id": "5aa18779-fbcf-4f00-8c4f-31c2ec347b4a",
   "metadata": {},
   "source": [
    "72.  For the given NumPy array, perform byte swapping in place using `byteswap()`.\n",
    "arr = np.array([1, 2, 3], dtype=np.int32)"
   ]
  },
  {
   "cell_type": "code",
   "execution_count": 75,
   "id": "a1dfa1c3-1048-401c-afae-651c7539f258",
   "metadata": {},
   "outputs": [
    {
     "name": "stdout",
     "output_type": "stream",
     "text": [
      "Original Array: [1 2 3]\n",
      "Original Byte Order: =\n",
      "Array after Byte Swapping: [16777216 33554432 50331648]\n",
      "Byte Order after Swapping: =\n"
     ]
    }
   ],
   "source": [
    "import numpy as np\n",
    "\n",
    "# Given NumPy array with dtype int32\n",
    "arr = np.array([1, 2, 3], dtype=np.int32)\n",
    "\n",
    "# Print the original array and its byte order\n",
    "print(\"Original Array:\", arr)\n",
    "print(\"Original Byte Order:\", arr.dtype.byteorder)\n",
    "\n",
    "# Perform byte swapping in place\n",
    "arr.byteswap(inplace=True)\n",
    "\n",
    "# Print the modified array and its byte order\n",
    "print(\"Array after Byte Swapping:\", arr)\n",
    "print(\"Byte Order after Swapping:\", arr.dtype.byteorder)\n"
   ]
  },
  {
   "cell_type": "markdown",
   "id": "158fd956-bd3b-4029-af6e-c69ccdfd3383",
   "metadata": {},
   "source": [
    "Explanation:\n",
    "\n",
    "    Create the Array:\n",
    "        np.array([1, 2, 3], dtype=np.int32) creates an array of integers with 32-bit integer type.\n",
    "\n",
    "    Print Original Byte Order:\n",
    "        arr.dtype.byteorder shows the byte order before swapping.\n",
    "\n",
    "    Perform Byte Swapping:\n",
    "        arr.byteswap(inplace=True) swaps the bytes of the array in place, modifying the original array.\n",
    "\n",
    "    Print Modified Array:\n",
    "        The array is printed again after byte swapping to show the changes."
   ]
  },
  {
   "cell_type": "raw",
   "id": "ce63db64-f4be-423c-92ef-74df6fa44916",
   "metadata": {},
   "source": [
    "73. For the given NumPy array, swap its byte order without modifying the original array using\n",
    "`newbyteorder()`.\n",
    "arr = np.array([1, 2, 3], dtype=np.int32)"
   ]
  },
  {
   "cell_type": "code",
   "execution_count": 76,
   "id": "6006ecfb-7311-49f9-8dd6-0503af6f861d",
   "metadata": {},
   "outputs": [
    {
     "name": "stdout",
     "output_type": "stream",
     "text": [
      "Original Array: [1 2 3]\n",
      "Original Byte Order: =\n",
      "Array with Swapped Byte Order: [16777216 33554432 50331648]\n",
      "Byte Order of Swapped Array: >\n"
     ]
    }
   ],
   "source": [
    "import numpy as np\n",
    "\n",
    "# Given NumPy array with dtype int32\n",
    "arr = np.array([1, 2, 3], dtype=np.int32)\n",
    "\n",
    "# Print the original array and its byte order\n",
    "print(\"Original Array:\", arr)\n",
    "print(\"Original Byte Order:\", arr.dtype.byteorder)\n",
    "\n",
    "# Swap byte order without modifying the original array\n",
    "swapped_arr = arr.newbyteorder()\n",
    "\n",
    "# Print the swapped array and its byte order\n",
    "print(\"Array with Swapped Byte Order:\", swapped_arr)\n",
    "print(\"Byte Order of Swapped Array:\", swapped_arr.dtype.byteorder)\n"
   ]
  },
  {
   "cell_type": "markdown",
   "id": "46954e34-764a-4bdb-83f5-2fceb6d7eaa5",
   "metadata": {},
   "source": [
    "Explanation:\n",
    "\n",
    "    Create the Array:\n",
    "        np.array([1, 2, 3], dtype=np.int32) creates an array of integers with 32-bit integer type.\n",
    "\n",
    "    Print Original Byte Order:\n",
    "        arr.dtype.byteorder shows the byte order of the original array.\n",
    "\n",
    "    Swap Byte Order:\n",
    "        arr.newbyteorder() creates a new array with the byte order swapped. This does not modify the original array but returns a new array with swapped byte order.\n",
    "\n",
    "    Print New Array:\n",
    "        The new array swapped_arr is printed to show the effect of the byte order swap."
   ]
  },
  {
   "cell_type": "markdown",
   "id": "87c429ae-cf06-4ac6-ad20-6220877c1939",
   "metadata": {},
   "source": [
    "Explanation of Output:\n",
    "\n",
    "    Original Array: [1 2 3] (integer values in native byte order).\n",
    "    Original Byte Order: Native endianness (e.g., little-endian).\n",
    "    Array with Swapped Byte Order: Shows the values after swapping bytes. The byte order is different, so the values appear changed.\n",
    "    Byte Order of Swapped Array: < indicates little-endian, but it will match the swapped byte order, which can be either < or > depending on the original system's endianness.\n",
    "\n",
    "This approach allows you to inspect or use byte-swapped data without altering the original data structure."
   ]
  },
  {
   "cell_type": "raw",
   "id": "e13db684-e5a8-46c2-bacb-1e21611ec2b5",
   "metadata": {},
   "source": [
    "74. For the given NumPy array and swap its byte order conditionally based on system endianness using\n",
    "`newbyteorder()`.\n",
    "arr = np.array([1, 2, 3], dtype=np.int32)"
   ]
  },
  {
   "cell_type": "code",
   "execution_count": 77,
   "id": "b331a18c-3484-403d-847e-80c3ae25894e",
   "metadata": {},
   "outputs": [
    {
     "name": "stdout",
     "output_type": "stream",
     "text": [
      "Original Array: [1 2 3]\n",
      "Original Byte Order: =\n",
      "System Byte Order: little\n",
      "Array with Conditional Byte Order Swapping: [16777216 33554432 50331648]\n",
      "Byte Order of Swapped Array: >\n"
     ]
    }
   ],
   "source": [
    "import numpy as np\n",
    "import sys\n",
    "\n",
    "# Given NumPy array with dtype int32\n",
    "arr = np.array([1, 2, 3], dtype=np.int32)\n",
    "\n",
    "# Check the system's endianness\n",
    "system_byteorder = sys.byteorder\n",
    "\n",
    "# Print the original array and its byte order\n",
    "print(\"Original Array:\", arr)\n",
    "print(\"Original Byte Order:\", arr.dtype.byteorder)\n",
    "print(\"System Byte Order:\", system_byteorder)\n",
    "\n",
    "# Conditionally swap byte order\n",
    "if system_byteorder == 'little':\n",
    "    swapped_arr = arr.newbyteorder('>')\n",
    "elif system_byteorder == 'big':\n",
    "    swapped_arr = arr.newbyteorder('<')\n",
    "else:\n",
    "    swapped_arr = arr  # Default to no change if unknown\n",
    "\n",
    "# Print the swapped array and its byte order\n",
    "print(\"Array with Conditional Byte Order Swapping:\", swapped_arr)\n",
    "print(\"Byte Order of Swapped Array:\", swapped_arr.dtype.byteorder)\n"
   ]
  },
  {
   "cell_type": "markdown",
   "id": "ba845759-de3f-46c5-b292-b79805517e85",
   "metadata": {},
   "source": [
    "Explanation:\n",
    "\n",
    "    Create the Array:\n",
    "        np.array([1, 2, 3], dtype=np.int32) creates a 32-bit integer array.\n",
    "\n",
    "    Check System Byte Order:\n",
    "        sys.byteorder provides the system's byte order ('little' or 'big').\n",
    "\n",
    "    Swap Byte Order Conditionally:\n",
    "        If the system's byte order is little-endian, arr.newbyteorder('>') is used to convert to big-endian.\n",
    "        If the system's byte order is big-endian, arr.newbyteorder('<') is used to convert to little-endian.\n",
    "        If the system byte order is unknown, the array remains unchanged.\n",
    "\n",
    "    Print Results:\n",
    "        The original and swapped arrays, along with their byte orders, are printed."
   ]
  },
  {
   "cell_type": "raw",
   "id": "3c803065-dff6-4bd2-a270-10550a545715",
   "metadata": {},
   "source": [
    "75. For the given NumPy array, check if byte swapping is necessary for the current system using `dtype`\n",
    "attribute `byteorder`.\n",
    "arr = np.array([1, 2, 3], dtype=np.int32)"
   ]
  },
  {
   "cell_type": "code",
   "execution_count": null,
   "id": "9dd47ee2-ac78-4f7b-8b51-5db213d58f48",
   "metadata": {},
   "outputs": [],
   "source": [
    "import numpy as np\n",
    "import sys\n",
    "\n",
    "# Given NumPy array with dtype int32\n",
    "arr = np.array([1, 2, 3], dtype=np.int32)\n",
    "\n",
    "# Check the system's endianness\n",
    "system_byteorder = sys.byteorder\n",
    "\n",
    "# Get the byte order of the array\n",
    "array_byteorder = arr.dtype.byteorder\n",
    "\n",
    "# Print the system's and array's byte order\n",
    "print(\"System Byte Order:\", system_byteorder)\n",
    "print(\"Array Byte Order:\", array_byteorder)\n",
    "\n",
    "# Determine if byte swapping is necessary\n",
    "if array_byteorder == '=':\n",
    "    # Array uses the system's native byte order\n",
    "    print(\"No byte swapping needed (native byte order).\")\n",
    "elif (system_byteorder == 'little' and array_byteorder == '>') or (system_byteorder == 'big' and array_byteorder == '<'):\n",
    "    # System's byte order and array's byte order differ\n",
    "    print(\"Byte swapping needed.\")\n",
    "else:\n",
    "    # Handle unknown or other cases\n",
    "    print(\"Byte swapping might be needed, but the situation is unclear.\")\n"
   ]
  },
  {
   "cell_type": "markdown",
   "id": "e0d9a171-bce9-4274-87a6-0e74051be0e6",
   "metadata": {},
   "source": [
    "Explanation:\n",
    "\n",
    "    Create the Array:\n",
    "        np.array([1, 2, 3], dtype=np.int32) creates an array of 32-bit integers.\n",
    "\n",
    "    Check System Byte Order:\n",
    "        sys.byteorder provides the system's endianness ('little' or 'big').\n",
    "\n",
    "    Get Array Byte Order:\n",
    "        arr.dtype.byteorder provides the byte order of the array ('<', '>', or '=' for native).\n",
    "\n",
    "    Determine Byte Swapping Necessity:\n",
    "        If array_byteorder is '=', the array uses the system's native byte order, so no byte swapping is needed.\n",
    "        If array_byteorder is different from the system's byte order, byte swapping is needed. For instance, if the system is little-endian ('little') and the array is big-endian ('>'), or vice versa.\n",
    "        The last condition handles cases where the situation might be unclear."
   ]
  },
  {
   "cell_type": "raw",
   "id": "1dd1810a-f9bf-4b67-a713-ab58b165c396",
   "metadata": {},
   "source": [
    "76.6. Create a NumPy array `arr1` with values from 1 to 10. Create a copy of `arr1` named `copy_arr` and modify\n",
    "an element in `copy_arr`. Check if modifying `copy_arr` affects `arr1`.\n"
   ]
  },
  {
   "cell_type": "code",
   "execution_count": 78,
   "id": "ad388fe8-74fa-479d-812f-395da4dec735",
   "metadata": {},
   "outputs": [
    {
     "name": "stdout",
     "output_type": "stream",
     "text": [
      "Original array (arr1): [ 1  2  3  4  5  6  7  8  9 10]\n",
      "Copied array (copy_arr): [ 1  2  3  4  5  6  7  8  9 10]\n",
      "Modified copied array (copy_arr): [99  2  3  4  5  6  7  8  9 10]\n",
      "Original array after modification (arr1): [ 1  2  3  4  5  6  7  8  9 10]\n"
     ]
    }
   ],
   "source": [
    "import numpy as np\n",
    "\n",
    "# Create a NumPy array with values from 1 to 10\n",
    "arr1 = np.arange(1, 11)\n",
    "print(\"Original array (arr1):\", arr1)\n",
    "\n",
    "# Create a copy of arr1\n",
    "copy_arr = arr1.copy()\n",
    "print(\"Copied array (copy_arr):\", copy_arr)\n",
    "\n",
    "# Modify an element in copy_arr\n",
    "copy_arr[0] = 99\n",
    "print(\"Modified copied array (copy_arr):\", copy_arr)\n",
    "\n",
    "# Check if modifying copy_arr affects arr1\n",
    "print(\"Original array after modification (arr1):\", arr1)\n"
   ]
  },
  {
   "cell_type": "markdown",
   "id": "200c04a7-3398-4c41-831f-67b1a75d1e69",
   "metadata": {},
   "source": [
    "\n",
    "\n",
    "Explanation:\n",
    "\n",
    "    np.arange(1, 11) creates an array with values from 1 to 10.\n",
    "    arr1.copy() creates a copy of arr1. This ensures that copy_arr is an independent array and modifications to it will not affect arr1.\n",
    "    Modifying copy_arr does not affect arr1, as demonstrated by the printed results.\n",
    "\n",
    "When you run this code, you should see that arr1 remains unchanged even after modifying copy_arr."
   ]
  },
  {
   "cell_type": "raw",
   "id": "a8fa9f0d-a7d4-431e-a43a-bab0578659e8",
   "metadata": {},
   "source": [
    "77. Create a 2D NumPy array `matrix` of shape (3, 3) with random integers. Extract a slice `view_slice` from\n",
    "the matrix. Modify an element in `view_slice` and observe if it changes the original `matrix`.\n"
   ]
  },
  {
   "cell_type": "code",
   "execution_count": 79,
   "id": "3e554932-ac58-4071-8098-05c365931b00",
   "metadata": {},
   "outputs": [
    {
     "name": "stdout",
     "output_type": "stream",
     "text": [
      "Original matrix:\n",
      " [[9 5 8]\n",
      " [5 6 2]\n",
      " [6 8 3]]\n",
      "View slice:\n",
      " [[6 2]\n",
      " [8 3]]\n",
      "Modified view slice:\n",
      " [[99  2]\n",
      " [ 8  3]]\n",
      "Original matrix after modification:\n",
      " [[ 9  5  8]\n",
      " [ 5 99  2]\n",
      " [ 6  8  3]]\n"
     ]
    }
   ],
   "source": [
    "import numpy as np\n",
    "\n",
    "# Create a 2D NumPy array with random integers between 0 and 9, of shape (3, 3)\n",
    "matrix = np.random.randint(0, 10, size=(3, 3))\n",
    "print(\"Original matrix:\\n\", matrix)\n",
    "\n",
    "# Extract a slice from the matrix\n",
    "view_slice = matrix[1:, 1:]  # This is a slice of the original matrix\n",
    "print(\"View slice:\\n\", view_slice)\n",
    "\n",
    "# Modify an element in the view_slice\n",
    "view_slice[0, 0] = 99\n",
    "print(\"Modified view slice:\\n\", view_slice)\n",
    "\n",
    "# Check if modifying view_slice affects the original matrix\n",
    "print(\"Original matrix after modification:\\n\", matrix)\n"
   ]
  },
  {
   "cell_type": "markdown",
   "id": "3eaf83bd-a63e-4cef-b3bb-f5a27c736791",
   "metadata": {},
   "source": [
    "Explanation:\n",
    "\n",
    "    np.random.randint(0, 10, size=(3, 3)) creates a 3x3 array with random integers between 0 and 9.\n",
    "    matrix[1:, 1:] extracts a slice starting from the element at index (1,1) to the end. This slice is a view of the original matrix.\n",
    "    Modifying an element in view_slice will affect the original matrix because slices are views of the original array."
   ]
  },
  {
   "cell_type": "raw",
   "id": "735c6864-f6b2-42be-b34e-9abe865899fa",
   "metadata": {},
   "source": [
    "78.Create a NumPy array `array_a` of shape (4, 3) with sequential integers from 1 to 12. Extract a slice\n",
    "`view_b` from `array_a` and broadcast the addition of 5 to view_b. Check if it alters the original `array_a"
   ]
  },
  {
   "cell_type": "code",
   "execution_count": 80,
   "id": "2e69d0fa-a5aa-4cb4-b26f-954e3d79a6db",
   "metadata": {},
   "outputs": [
    {
     "name": "stdout",
     "output_type": "stream",
     "text": [
      "Original array (array_a):\n",
      " [[ 1  2  3]\n",
      " [ 4  5  6]\n",
      " [ 7  8  9]\n",
      " [10 11 12]]\n",
      "View slice (view_b):\n",
      " [[ 5  6]\n",
      " [ 8  9]\n",
      " [11 12]]\n",
      "Modified view slice (view_b) after addition:\n",
      " [[10 11]\n",
      " [13 14]\n",
      " [16 17]]\n",
      "Original array (array_a) after modification:\n",
      " [[ 1  2  3]\n",
      " [ 4 10 11]\n",
      " [ 7 13 14]\n",
      " [10 16 17]]\n"
     ]
    }
   ],
   "source": [
    "import numpy as np\n",
    "\n",
    "# Create a NumPy array with sequential integers from 1 to 12, shape (4, 3)\n",
    "array_a = np.arange(1, 13).reshape(4, 3)\n",
    "print(\"Original array (array_a):\\n\", array_a)\n",
    "\n",
    "# Extract a slice from array_a\n",
    "view_b = array_a[1:, 1:]  # Slice from (1,1) to the end\n",
    "print(\"View slice (view_b):\\n\", view_b)\n",
    "\n",
    "# Broadcast the addition of 5 to view_b\n",
    "view_b += 5\n",
    "print(\"Modified view slice (view_b) after addition:\\n\", view_b)\n",
    "\n",
    "# Check if modifying view_b affects the original array_a\n",
    "print(\"Original array (array_a) after modification:\\n\", array_a)\n"
   ]
  },
  {
   "cell_type": "markdown",
   "id": "4c8ff019-ad45-43ca-8bcc-6b3e061a5178",
   "metadata": {},
   "source": [
    "Explanation:\n",
    "\n",
    "    np.arange(1, 13).reshape(4, 3) creates a 4x3 array with sequential integers from 1 to 12.\n",
    "    array_a[1:, 1:] extracts a slice starting from index (1,1) to the end, which is a view of the original array.\n",
    "    view_b += 5 broadcasts the addition of 5 to each element of the slice view_b."
   ]
  },
  {
   "cell_type": "raw",
   "id": "b4ddbc03-5dbd-44d5-945d-7b7a484e21b9",
   "metadata": {},
   "source": [
    "79.. Create a NumPy array `orig_array` of shape (2, 4) with values from 1 to 8. Create a reshaped view\n",
    "`reshaped_view` of shape (4, 2) from orig_array. Modify an element in `reshaped_view` and check if it\n",
    "reflects changes in the original `orig_array"
   ]
  },
  {
   "cell_type": "code",
   "execution_count": 81,
   "id": "f63ea6a3-cd6a-4bf4-87e0-d16070e2c24d",
   "metadata": {},
   "outputs": [
    {
     "name": "stdout",
     "output_type": "stream",
     "text": [
      "Original array (orig_array):\n",
      " [[1 2 3 4]\n",
      " [5 6 7 8]]\n",
      "Reshaped view (reshaped_view):\n",
      " [[1 2]\n",
      " [3 4]\n",
      " [5 6]\n",
      " [7 8]]\n",
      "Modified reshaped view (reshaped_view):\n",
      " [[99  2]\n",
      " [ 3  4]\n",
      " [ 5  6]\n",
      " [ 7  8]]\n",
      "Original array (orig_array) after modification:\n",
      " [[99  2  3  4]\n",
      " [ 5  6  7  8]]\n"
     ]
    }
   ],
   "source": [
    "import numpy as np\n",
    "\n",
    "# Create a NumPy array with values from 1 to 8, shape (2, 4)\n",
    "orig_array = np.arange(1, 9).reshape(2, 4)\n",
    "print(\"Original array (orig_array):\\n\", orig_array)\n",
    "\n",
    "# Create a reshaped view of shape (4, 2)\n",
    "reshaped_view = orig_array.reshape(4, 2)\n",
    "print(\"Reshaped view (reshaped_view):\\n\", reshaped_view)\n",
    "\n",
    "# Modify an element in reshaped_view\n",
    "reshaped_view[0, 0] = 99\n",
    "print(\"Modified reshaped view (reshaped_view):\\n\", reshaped_view)\n",
    "\n",
    "# Check if modifying reshaped_view affects the original orig_array\n",
    "print(\"Original array (orig_array) after modification:\\n\", orig_array)\n"
   ]
  },
  {
   "cell_type": "markdown",
   "id": "d6c17f5d-9b6e-4e6f-bf43-f32767490008",
   "metadata": {},
   "source": [
    "Explanation:\n",
    "\n",
    "    np.arange(1, 9).reshape(2, 4) creates a 2x4 array with values from 1 to 8.\n",
    "    orig_array.reshape(4, 2) creates a reshaped view of orig_array with shape (4, 2). This view is not a copy but a different way to view the same data.\n",
    "    Modifying an element in reshaped_view will also affect the original orig_array because reshaped_view is just a different view of orig_array"
   ]
  },
  {
   "cell_type": "raw",
   "id": "0a8de740-29be-4e54-9a66-5f10c766a1af",
   "metadata": {},
   "source": [
    "80.Create a NumPy array `data` of shape (3, 4) with random integers. Extract a copy `data_copy` of\n",
    "elements greater than 5. Modify an element in `data_copy` and verify if it affects the original `da"
   ]
  },
  {
   "cell_type": "code",
   "execution_count": 82,
   "id": "4e8920c2-d6be-4af9-b9e2-cba07a3fddcc",
   "metadata": {},
   "outputs": [
    {
     "name": "stdout",
     "output_type": "stream",
     "text": [
      "Original array (data):\n",
      " [[5 1 3 8]\n",
      " [8 5 3 4]\n",
      " [1 4 4 1]]\n",
      "Data copy (elements greater than 5):\n",
      " [8 8]\n",
      "Modified data copy:\n",
      " [99  8]\n",
      "Original array (data) after modification:\n",
      " [[5 1 3 8]\n",
      " [8 5 3 4]\n",
      " [1 4 4 1]]\n"
     ]
    }
   ],
   "source": [
    "import numpy as np\n",
    "\n",
    "# Create a NumPy array with random integers between 1 and 10, shape (3, 4)\n",
    "data = np.random.randint(1, 10, size=(3, 4))\n",
    "print(\"Original array (data):\\n\", data)\n",
    "\n",
    "# Extract a copy of elements greater than 5\n",
    "data_copy = data[data > 5].copy()\n",
    "print(\"Data copy (elements greater than 5):\\n\", data_copy)\n",
    "\n",
    "# Modify an element in data_copy\n",
    "data_copy[0] = 99\n",
    "print(\"Modified data copy:\\n\", data_copy)\n",
    "\n",
    "# Check if modifying data_copy affects the original data\n",
    "print(\"Original array (data) after modification:\\n\", data)\n"
   ]
  },
  {
   "cell_type": "markdown",
   "id": "e2d651d1-53bc-4557-9e1c-0580998e2227",
   "metadata": {},
   "source": [
    "Explanation:\n",
    "\n",
    "    np.random.randint(1, 10, size=(3, 4)) creates a 3x4 array with random integers between 1 and 9.\n",
    "    data[data > 5].copy() creates a copy of elements from data that are greater than 5. Using .copy() ensures that data_copy is an independent array.\n",
    "    Modifying an element in data_copy will not affect the original data since data_copy is a separate copy created using .copy()."
   ]
  },
  {
   "cell_type": "raw",
   "id": "7b165f7e-74fb-406d-9e7e-fea72432196b",
   "metadata": {},
   "source": [
    "81.Create two matrices A and B of identical shape containing integers and perform addition and subtraction\n",
    "operations between them.\n"
   ]
  },
  {
   "cell_type": "code",
   "execution_count": 83,
   "id": "77c32b95-8417-4ee7-8bf0-d410d34026f4",
   "metadata": {},
   "outputs": [
    {
     "name": "stdout",
     "output_type": "stream",
     "text": [
      "Matrix A:\n",
      " [[9 2 6]\n",
      " [2 6 5]\n",
      " [3 2 9]]\n",
      "Matrix B:\n",
      " [[9 5 1]\n",
      " [8 5 7]\n",
      " [6 7 5]]\n",
      "Addition of A and B:\n",
      " [[18  7  7]\n",
      " [10 11 12]\n",
      " [ 9  9 14]]\n",
      "Subtraction of A and B:\n",
      " [[ 0 -3  5]\n",
      " [-6  1 -2]\n",
      " [-3 -5  4]]\n"
     ]
    }
   ],
   "source": [
    "import numpy as np\n",
    "\n",
    "# Create two matrices A and B of identical shape with random integers\n",
    "A = np.random.randint(1, 10, size=(3, 3))\n",
    "B = np.random.randint(1, 10, size=(3, 3))\n",
    "\n",
    "print(\"Matrix A:\\n\", A)\n",
    "print(\"Matrix B:\\n\", B)\n",
    "\n",
    "# Perform addition between A and B\n",
    "addition_result = A + B\n",
    "print(\"Addition of A and B:\\n\", addition_result)\n",
    "\n",
    "# Perform subtraction between A and B\n",
    "subtraction_result = A - B\n",
    "print(\"Subtraction of A and B:\\n\", subtraction_result)\n"
   ]
  },
  {
   "cell_type": "markdown",
   "id": "e2662136-d02b-4afb-97c2-9c0e045a4ec6",
   "metadata": {},
   "source": [
    "Explanation:\n",
    "\n",
    "    np.random.randint(1, 10, size=(3, 3)) generates random integers between 1 and 9 and creates two matrices A and B of shape (3, 3).\n",
    "    A + B performs element-wise addition of matrices A and B.\n",
    "    A - B performs element-wise subtraction of B from A."
   ]
  },
  {
   "cell_type": "raw",
   "id": "a310963c-542f-474d-8296-b127340f2fc1",
   "metadata": {},
   "source": [
    "82. . Generate two matrices `C` (3x2) and `D` (2x4) and perform matrix multiplication"
   ]
  },
  {
   "cell_type": "code",
   "execution_count": 84,
   "id": "ee41353b-eb17-4402-9056-ac1bcafbd95d",
   "metadata": {},
   "outputs": [
    {
     "name": "stdout",
     "output_type": "stream",
     "text": [
      "Matrix C (3x2):\n",
      " [[7 1]\n",
      " [2 3]\n",
      " [5 3]]\n",
      "Matrix D (2x4):\n",
      " [[8 8 2 5]\n",
      " [6 5 5 5]]\n",
      "Result of C multiplied by D:\n",
      " [[62 61 19 40]\n",
      " [34 31 19 25]\n",
      " [58 55 25 40]]\n"
     ]
    }
   ],
   "source": [
    "import numpy as np\n",
    "\n",
    "# Generate two matrices\n",
    "C = np.random.randint(1, 10, size=(3, 2))\n",
    "D = np.random.randint(1, 10, size=(2, 4))\n",
    "\n",
    "print(\"Matrix C (3x2):\\n\", C)\n",
    "print(\"Matrix D (2x4):\\n\", D)\n",
    "\n",
    "# Perform matrix multiplication\n",
    "result = np.matmul(C, D)\n",
    "# Alternatively, you can use the @ operator: result = C @ D\n",
    "\n",
    "print(\"Result of C multiplied by D:\\n\", result)\n"
   ]
  },
  {
   "cell_type": "markdown",
   "id": "52987351-1ce5-4fe3-bedd-3f819f68bae2",
   "metadata": {},
   "source": [
    "Explanation:\n",
    "\n",
    "    np.random.randint(1, 10, size=(3, 2)) creates a 3x2 matrix C with random integers between 1 and 9.\n",
    "    np.random.randint(1, 10, size=(2, 4)) creates a 2x4 matrix D with random integers between 1 and 9.\n",
    "    np.matmul(C, D) performs matrix multiplication. You could also use C @ D for the same result."
   ]
  },
  {
   "cell_type": "raw",
   "id": "c9436b19-4cb6-477f-8cdf-87f34d6e5ac2",
   "metadata": {},
   "source": [
    "83. Create a matrix `E` and find its transpose.\n"
   ]
  },
  {
   "cell_type": "code",
   "execution_count": 85,
   "id": "ba36e939-90e0-47ec-aa6d-620a35d72779",
   "metadata": {},
   "outputs": [
    {
     "name": "stdout",
     "output_type": "stream",
     "text": [
      "Matrix E:\n",
      " [[5 3 9]\n",
      " [2 8 5]\n",
      " [4 8 2]]\n",
      "Transpose of matrix E:\n",
      " [[5 2 4]\n",
      " [3 8 8]\n",
      " [9 5 2]]\n"
     ]
    }
   ],
   "source": [
    "import numpy as np\n",
    "\n",
    "# Create a matrix E (let's use a 3x3 matrix for example)\n",
    "E = np.random.randint(1, 10, size=(3, 3))\n",
    "print(\"Matrix E:\\n\", E)\n",
    "\n",
    "# Find the transpose of matrix E\n",
    "E_transpose = E.T\n",
    "print(\"Transpose of matrix E:\\n\", E_transpose)\n"
   ]
  },
  {
   "cell_type": "markdown",
   "id": "aecf1c45-401e-4128-91a6-5d38c4b3e02b",
   "metadata": {},
   "source": [
    "Explanation:\n",
    "\n",
    "    np.random.randint(1, 10, size=(3, 3)) generates a 3x3 matrix E with random integers between 1 and 9.\n",
    "    E.T computes the transpose of matrix E, swapping rows with columns."
   ]
  },
  {
   "cell_type": "raw",
   "id": "fe517d9f-fa3e-455c-9744-07a43bfa87d1",
   "metadata": {},
   "source": [
    "84. Generate a square matrix `F` and compute its determinant."
   ]
  },
  {
   "cell_type": "code",
   "execution_count": 86,
   "id": "e1f956a5-739e-4f97-8539-12a093d5dea9",
   "metadata": {},
   "outputs": [
    {
     "name": "stdout",
     "output_type": "stream",
     "text": [
      "Matrix F:\n",
      " [[9 3 7]\n",
      " [9 5 7]\n",
      " [4 3 2]]\n",
      "Determinant of matrix F: -19.999999999999996\n"
     ]
    }
   ],
   "source": [
    "import numpy as np\n",
    "\n",
    "# Generate a square matrix F (let's use a 3x3 matrix for this example)\n",
    "F = np.random.randint(1, 10, size=(3, 3))\n",
    "print(\"Matrix F:\\n\", F)\n",
    "\n",
    "# Compute the determinant of matrix F\n",
    "determinant_F = np.linalg.det(F)\n",
    "print(\"Determinant of matrix F:\", determinant_F)\n"
   ]
  },
  {
   "cell_type": "markdown",
   "id": "66060866-dfb4-4e3d-817a-e3100c100aa9",
   "metadata": {},
   "source": [
    "Explanation:\n",
    "\n",
    "    np.random.randint(1, 10, size=(3, 3)) creates a 3x3 square matrix F with random integers between 1 and 9.\n",
    "    np.linalg.det(F) computes the determinant of matrix F."
   ]
  },
  {
   "cell_type": "raw",
   "id": "5cec179d-045b-4c11-be82-c6f3eed74128",
   "metadata": {},
   "source": [
    "85.Create a square matrix `G` and find its inverse."
   ]
  },
  {
   "cell_type": "code",
   "execution_count": 87,
   "id": "dbf39d1d-19cf-4640-a7a0-21ad5893ac4b",
   "metadata": {},
   "outputs": [
    {
     "name": "stdout",
     "output_type": "stream",
     "text": [
      "Matrix G:\n",
      " [[2 3 2]\n",
      " [3 1 1]\n",
      " [9 3 7]]\n",
      "Determinant of matrix G: -28.00000000000001\n",
      "Inverse of matrix G:\n",
      " [[-0.14285714  0.53571429 -0.03571429]\n",
      " [ 0.42857143  0.14285714 -0.14285714]\n",
      " [-0.         -0.75        0.25      ]]\n"
     ]
    }
   ],
   "source": [
    "import numpy as np\n",
    "\n",
    "# Generate a square matrix G (let's use a 3x3 matrix for this example)\n",
    "G = np.random.randint(1, 10, size=(3, 3))\n",
    "print(\"Matrix G:\\n\", G)\n",
    "\n",
    "# Compute the determinant to check if the matrix is invertible\n",
    "determinant_G = np.linalg.det(G)\n",
    "print(\"Determinant of matrix G:\", determinant_G)\n",
    "\n",
    "# Compute the inverse of matrix G if it is invertible\n",
    "if determinant_G != 0:\n",
    "    G_inverse = np.linalg.inv(G)\n",
    "    print(\"Inverse of matrix G:\\n\", G_inverse)\n",
    "else:\n",
    "    print(\"Matrix G is singular and does not have an inverse.\")\n"
   ]
  },
  {
   "cell_type": "markdown",
   "id": "cd7ca042-10b4-4961-ba4c-a5b5efcc6b35",
   "metadata": {},
   "source": [
    "Explanation:\n",
    "\n",
    "    np.random.randint(1, 10, size=(3, 3)) creates a 3x3 square matrix G with random integers between 1 and 9.\n",
    "    np.linalg.det(G) calculates the determinant of G. If the determinant is zero, the matrix is singular and does not have an inverse.\n",
    "    np.linalg.inv(G) computes the inverse of G if it is invertible."
   ]
  },
  {
   "cell_type": "code",
   "execution_count": null,
   "id": "17f35c4c-955d-425b-aacd-db7c974669a8",
   "metadata": {},
   "outputs": [],
   "source": []
  }
 ],
 "metadata": {
  "kernelspec": {
   "display_name": "Python 3 (ipykernel)",
   "language": "python",
   "name": "python3"
  },
  "language_info": {
   "codemirror_mode": {
    "name": "ipython",
    "version": 3
   },
   "file_extension": ".py",
   "mimetype": "text/x-python",
   "name": "python",
   "nbconvert_exporter": "python",
   "pygments_lexer": "ipython3",
   "version": "3.10.8"
  }
 },
 "nbformat": 4,
 "nbformat_minor": 5
}
